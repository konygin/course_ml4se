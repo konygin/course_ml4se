{
 "cells": [
  {
   "cell_type": "markdown",
   "metadata": {},
   "source": [
    "# 10. CODE DEFECTS"
   ]
  },
  {
   "cell_type": "markdown",
   "metadata": {},
   "source": [
    "1. Types\n",
    "2. ML Approaches\n",
    "3. Exercise\n",
    "4. References"
   ]
  },
  {
   "cell_type": "markdown",
   "metadata": {},
   "source": [
    "# 1. Types\n",
    "\n",
    "*Defect, bug, error, flaw, failure, fault, vulnerability, weakness, antipattern, smell...*\n",
    "\n",
    "Basic expectations from the code:\n",
    "- works as intended: correctly, efficiently, securely\n",
    "- easy to maintain: understand what is happening; make changes\n",
    "\n",
    "Violations of these expectations are *defects* in the code.\n",
    "1. If the code does not work as intended --- error.\n",
    "2. If the code is difficult to maintain --- anti-pattern.\n",
    "\n",
    "Errors come in different forms:\n",
    "- bug: a violation of functionality\n",
    "- vulnerability: a violation of functionality that can lead to a security issue (intent to abuse the bug)."
   ]
  },
  {
   "cell_type": "markdown",
   "metadata": {},
   "source": [
    "#### Why is vulnerability detection important?\n",
    "\n",
    "- software is an integral part of modern life\n",
    "- approximately 2244 cyber attacks per day (more than 800K attacks per year), approximately one attack [every 39 seconds](https://svitla.com/blog/cybersecurity-threats)\n",
    "- software vulnerabilities are the main reason for the prevalence of cyber attacks\n",
    "- modern tools [miss](https://doi.org/10.1145/3533767.3534380) from 47\\% to 80\\% of real vulnerabilities\n",
    "- by the way, Kontur has a [Vulnerability Search Program](https://kontur.ru/bugbounty)"
   ]
  },
  {
   "cell_type": "markdown",
   "metadata": {},
   "source": [
    "#### CWE vs CVE\n",
    "\n",
    "CWE (Common Weakness Enumeration) is a list of types of software weaknesses.\n",
    "\n",
    "[Top 25 Most Dangerous](https://cwe.mitre.org/top25/archive/2024/2024_cwe_top25.html):\n",
    "\n",
    "1. CWE-79: Improper Neutralization of Input During Web Page Generation ('Cross-site Scripting')\n",
    "2. CWE-787: Out-of-bounds Write\n",
    "3. CWE-89: Improper Neutralization of Special Elements used in an SQL Command ('SQL Injection')\n",
    "4. CWE-352: Cross-Site Request Forgery (CSRF)\n",
    "5. CWE-22: Improper Limitation of a Pathname to a Restricted Directory ('Path Traversal')\n",
    "6. CWE-125: Out-of-bounds Read\n",
    "7. CWE-78: Improper Neutralization of Special Elements used in an OS Command ('OS Command Injection')\n",
    "8. CWE-416: Use After Free\n",
    "9. CWE-862: Missing Authorization\n",
    "10. CWE-434: Unrestricted Upload of File with Dangerous Type\n",
    "11. CWE-94: Improper Control of Generation of Code ('Code Injection')\n",
    "12. CWE-20: Improper Input Validation\n",
    "13. CWE-77: Improper Neutralization of Special Elements used in a Command ('Command Injection')\n",
    "14. CWE-287: Improper Authentication\n",
    "15. CWE-269: Improper Privilege Management\n",
    "16. CWE-502: Deserialization of Untrusted Data\n",
    "17. CWE-200: Exposure of Sensitive Information to an Unauthorized Actor\n",
    "18. CWE-863: Incorrect Authorization\n",
    "19. CWE-918: Server-Side Request Forgery (SSRF)\n",
    "20. CWE-119: Improper Restriction of Operations within the Bounds of a Memory Buffer\n",
    "21. CWE-476: NULL Pointer Dereference\n",
    "22. CWE-798: Use of Hard-coded Credentials\n",
    "23. CWE-190: Integer Overflow or Wraparound\n",
    "24. CWE-400: Uncontrolled Resource Consumption\n",
    "25. CWE-306: Missing Authentication for Critical Function"
   ]
  },
  {
   "cell_type": "markdown",
   "metadata": {},
   "source": [
    "CVE (Common Vulnerabilities and Exposures database) is a list of known vulnerabilities and security flaws.\n",
    "\n",
    "> For example, vulnerability CVE-2021-44228 is a Remote Code Execution vulnerability in Apache Log4j,\n",
    "The 2021 substring denotes the year in which the CVE identifier was assigned or in which the vulnerability was published.\n",
    "The 44228 substring is a unique identifier for the vulnerability during the year."
   ]
  },
  {
   "cell_type": "markdown",
   "metadata": {},
   "source": [
    "# 2. ML Approaches"
   ]
  },
  {
   "cell_type": "markdown",
   "metadata": {},
   "source": [
    "## 2.0 Datasets\n",
    "\n",
    "Requirements:\n",
    "1. high-quality labels\n",
    "2. realistic\n",
    "3. size\n",
    "\n",
    "Public datasets:\n",
    "1. [SARD 2018](https://samate.nist.gov/SARD/), [Draper](https://arxiv.org/abs/1807.04320), [Devign](https://arxiv.org/abs/1909.03496), [D2A](https://arxiv.org/abs/2102.07995), [ReVeal](https://arxiv.org/abs/2009.07235), [SecurityEval](https://doi.org/10.1145/3549035.3561184), [DiverseVul](https://arxiv.org/abs/2304.00409)\n",
    "2. different languages: C++, Java, etc.\n",
    "3. synthetic / real data\n",
    "4. different quality of datasets"
   ]
  },
  {
   "cell_type": "markdown",
   "metadata": {},
   "source": [
    "**WARNING**\n",
    "\n",
    "Some datasets (especially synthetic ones) contain comments or variable names that explicitly indicate the type of vulnerability.\n",
    "A model trained on such a dataset will be useless in practice.\n",
    "\n",
    "![](res/10_cwe457_comment.png)"
   ]
  },
  {
   "cell_type": "markdown",
   "metadata": {},
   "source": [
    "Dataset quality:\n",
    "- 20%--71% of vulnerability labels in real-world datasets are [incorrect](https://arxiv.org/abs/2301.05456)\n",
    "- 17%--99% of examples are [duplicated](https://arxiv.org/abs/2301.05456)\n",
    "- after training on such datasets in real-world scenarios, the quality of models [drops](https://ieeexplore.ieee.org/abstract/document/9448435) by more than 50%\n",
    "\n",
    "![](res/10_quality.png)\n",
    "\n",
    "![](res/10_attributes.png)\n",
    "\n",
    "[Source: [Croft et al. 2023]](https://arxiv.org/abs/2301.05456)"
   ]
  },
  {
   "cell_type": "markdown",
   "metadata": {},
   "source": [
    "## 2.1 Encoders\n",
    "\n",
    "1. Pre-trained encoder\n",
    "2. Fine-tune on dataset"
   ]
  },
  {
   "cell_type": "markdown",
   "metadata": {},
   "source": [
    "#### LineVul: локализация на уровне строк кода\n",
    "\n",
    "In [[Fu Tantithamthavorn 2022]](https://michaelfu1998-create.github.io/papers/linevul.pdf) the authors implement line-level vulnerability localization:\n",
    "\n",
    "Given a function predicted as vulnerable by LineVul, the authors perform a line-level vulnerability localization by leveraging the self-attention mechanism inside the Transformer architecture to locate the vulnerable lines.\n",
    "\n",
    "The intuition is that tokens that are most contributed to the predictions are likely to be vulnerable tokens.\n",
    "\n",
    "For each subword token, we can summarize the self-attention scores from each of the $12$ Transformer encoder blocks. After obtaining the attention subword-token scores, we can then integrate those scores into line scores.\n",
    "\n",
    "The authors split a whole function into many lists of tokens (each list of tokens represents a line) by the Newline control character (i.e., \\n). Finally, for each list of token scores, they summarize it into one attention line score and rank line scores in a descending order."
   ]
  },
  {
   "cell_type": "markdown",
   "metadata": {},
   "source": [
    "Let's summarize:\n",
    "\n",
    "1. tokens that are most contributed to the predictions are likely to be vulnerable tokens\n",
    "2. for each subword token in the function, the authors summarize the self-attention scores from each of the 12 Transformer encoder blocks\n",
    "3. integrate those scores into line scores\n",
    "\n",
    "![](res/10_linevul.png)"
   ]
  },
  {
   "cell_type": "markdown",
   "metadata": {},
   "source": [
    "## 2.2 LLMs\n",
    "\n",
    "[Prompts](https://arxiv.org/abs/2308.12697) for vulnerability detection using ChatGPT:\n",
    "- basic prompting\n",
    "- role-based basic prompt\n",
    "- reverse-question prompt\n",
    "- prompting with auxiliary information (Data Flow, API Calls)\n",
    "- Chain-of-Thought prompting"
   ]
  },
  {
   "cell_type": "markdown",
   "metadata": {},
   "source": [
    "Basic prompting:\n",
    "> `Is the following program buggy? Please answer Yes or No. [CODE]`\n",
    "\n",
    "Role-based basic prompt:\n",
    "> `I want you to act as a vulnerability detection system. My first request is \"Is the following program buggy?\" Please answer Yes or No. [CODE]`\n",
    "\n",
    "Reverse-question prompt:\n",
    "> `I want you to act as a vulnerability detection system. My first request is \"Is the following program **correct**?\" Please answer Yes or No. [CODE]`\n",
    "\n",
    "Prompting with auxiliary information:\n",
    "> `I want you to act as a vulnerability detection system. I will provide you with the original program and the data flow information, and you will act upon them. Is the following program buggy? [CODE]. [Data Flow description].`\n",
    ">\n",
    "> ![](res/10_aux.png)\n",
    ">\n",
    "> `Data Flow description: The data value of the variable $v_i$ at the $p_i$-th token comes from/is computed by the variable $v_j$ at the $p_j$-th token.`\n",
    "\n",
    "Chain-of-Thought Prompting:\n",
    "> `1. Please describe the intent of the given code. [CODE]`\n",
    "> `2. I want you to act as a vulnerability detection system. Is the above program buggy? Please answer Yes or No.`"
   ]
  },
  {
   "cell_type": "markdown",
   "metadata": {},
   "source": [
    "Drawbacks:\n",
    "\n",
    "- LLMs require a lot of resources\n",
    "- limitation on inference time\n",
    "- some LLMs are closed"
   ]
  },
  {
   "cell_type": "markdown",
   "metadata": {},
   "source": [
    "## 2.3 Agents\n",
    "\n",
    "See: [COLLABORATIVE AGENTS](09_collaborative_agents.ipynb)\n",
    "\n",
    "#### [CodeAgent: Collaborative Agents for Software Engineering](https://arxiv.org/abs/2402.02172)\n",
    "\n",
    "- A multi-agent-based system for code review.\n",
    "- Website: https://code-agent-new.vercel.app/index.html\n",
    "- Demo: https://code-agent-new.vercel.app/index.html#demo\n",
    "\n",
    "Tasks:\n",
    "- Semantic consistency detection between commit and commit message\n",
    "- Vulnerability analysis\n",
    "- Format consistency detection\n",
    "- Code revision\n",
    "\n",
    "![](res/09_codeagent_pipeline.png)"
   ]
  },
  {
   "cell_type": "markdown",
   "metadata": {},
   "source": [
    "#### Results (detected vulnerabilities)\n",
    "\n",
    "![](res/09_codeagent_vulnerabilities.png)"
   ]
  },
  {
   "cell_type": "markdown",
   "metadata": {},
   "source": [
    "# 3. Exercise\n",
    "\n",
    "Investigate the effectiveness of different prompting-based approaches for detecting CWE.\n",
    "1. Choose LLM\n",
    "2. Choose prompting-based approaches\n",
    "3. Choose examples (e.g. https://samate.nist.gov/SARD/)\n",
    "4. Conduct research\n",
    "5. Draw conclusions"
   ]
  },
  {
   "cell_type": "markdown",
   "metadata": {},
   "source": [
    "# 4. References\n",
    "\n",
    "- https://kontur.ru/bugbounty\n",
    "- https://svitla.com/blog/cybersecurity-threats\n",
    "- https://doi.org/10.1145/3533767.3534380\n",
    "- https://dl.acm.org/doi/10.1145/3549035.3561184\n",
    "- https://samate.nist.gov/SARD/\n",
    "- https://ieeexplore.ieee.org/abstract/document/9448435\n",
    "- https://michaelfu1998-create.github.io/papers/linevul.pdf\n",
    "- https://arxiv.org/abs/1807.04320\n",
    "- https://arxiv.org/abs/1909.03496\n",
    "- https://arxiv.org/abs/2009.07235\n",
    "- https://arxiv.org/abs/2102.07995\n",
    "- https://arxiv.org/abs/2301.05456\n",
    "- https://arxiv.org/abs/2304.00409\n",
    "- https://arxiv.org/abs/2308.12697\n",
    "- https://arxiv.org/abs/2402.02172"
   ]
  },
  {
   "cell_type": "code",
   "execution_count": null,
   "metadata": {},
   "outputs": [],
   "source": []
  }
 ],
 "metadata": {
  "kernelspec": {
   "display_name": "Python 3 (ipykernel)",
   "language": "python",
   "name": "python3"
  },
  "language_info": {
   "codemirror_mode": {
    "name": "ipython",
    "version": 3
   },
   "file_extension": ".py",
   "mimetype": "text/x-python",
   "name": "python",
   "nbconvert_exporter": "python",
   "pygments_lexer": "ipython3",
   "version": "3.10.13"
  }
 },
 "nbformat": 4,
 "nbformat_minor": 4
}

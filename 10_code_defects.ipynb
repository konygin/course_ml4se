{
 "cells": [
  {
   "cell_type": "markdown",
   "metadata": {},
   "source": [
    "# 10. CODE DEFECTS"
   ]
  },
  {
   "cell_type": "markdown",
   "metadata": {},
   "source": [
    "1. Types\n",
    "2. Approaches\n",
    "3. References"
   ]
  },
  {
   "cell_type": "markdown",
   "metadata": {},
   "source": [
    "# 1. Types\n",
    "\n",
    "*Defect, bug, error, flaw, failure, fault, vulnerability, weakness, antipattern, smell...*\n",
    "\n",
    "Основные ожидания от кода:\n",
    "- правильно работает, то есть работает так, как задумано: корректно, эффективно, безопасно\n",
    "- удобно поддерживать: понимать, что происходит; вносить изменения\n",
    "\n",
    "Нарушение этих ожиданий --- дефекты в коде.\n",
    "1. Если код работает не так, как было задумано --- ошибка (error).\n",
    "2. Если код сложно поддерживать --- антипаттерн.\n",
    "\n",
    "Ошибки бывают разные:\n",
    "- bug: нарушение функциональности\n",
    "- vulnerability: нарушение функциональности, которое может привести к проблеме с безопаснотью (намерение злоупотребить ошибкой)."
   ]
  },
  {
   "cell_type": "markdown",
   "metadata": {},
   "source": [
    "#### Почему обнаружение уязвимостей это важно?\n",
    "\n",
    "- ПО --- неотъемлимая часть современной жизни\n",
    "- примерно 2244 кибератаки в день (более чем 800K атак в год, примерно одна атака [каждые 39 секунд](https://svitla.com/blog/cybersecurity-threats)\n",
    "- уязвимости в ПО --- главная причина распространённости кибератак\n",
    "- современные инструменты [пропускают](https://doi.org/10.1145/3533767.3534380) от 47\\% до 80\\% уязвимостей реальных уязвимостей\n",
    "- кстати, в Контуре работает \"Программа поиска уязвимостей\": https://kontur.ru/bugbounty"
   ]
  },
  {
   "cell_type": "markdown",
   "metadata": {},
   "source": [
    "#### CWE vs CWE\n",
    "\n",
    "- CWE (Common Weakness Enumeration) --- это список типов недостатков (слабостей) программного обеспечения.\n",
    "> ![](res/10_top_cwe.png)\n",
    " \n",
    "- CVE (Common Vulnerabilities and Exposures database) --- это список известных уязвимостей и дефектов безопасности.\n",
    "\n",
    "> Например, уязвимость CVE-2021-44228 --- это уязвимость типа Remote Code Execution vulnerability в Apache Log4j,\n",
    "Подстрока 2021 обозначает год, в котором присвоен идентификатор CVE или в котором уязвимость была опубликована.\n",
    "Подстрока 44228 является уникальным идентификатором уязвимости в течение года."
   ]
  },
  {
   "cell_type": "markdown",
   "metadata": {},
   "source": [
    "# 2. Approaches"
   ]
  },
  {
   "cell_type": "markdown",
   "metadata": {},
   "source": [
    "## 2.0 Datasets\n",
    "\n",
    "Требования\n",
    "1. качественная разметка\n",
    "2. реалистичность\n",
    "3. достаточное количество\n",
    "\n",
    "\n",
    "Публичные датасеты:\n",
    "1. много разных наборов данных: [SARD 2018](https://samate.nist.gov/SARD/), [Draper](https://arxiv.org/abs/1807.04320), [Devign](https://arxiv.org/abs/1909.03496), [D2A](https://arxiv.org/abs/2102.07995), [ReVeal](https://arxiv.org/abs/2009.07235), [SecurityEval](https://doi.org/10.1145/3549035.3561184), [DiverseVul](https://arxiv.org/abs/2304.00409)\n",
    "2. разные языки: C++, Java и т.д.\n",
    "3. синтетические / реальные данные\n",
    "4. различное качество датасетов"
   ]
  },
  {
   "cell_type": "markdown",
   "metadata": {},
   "source": [
    "Некоторые наборы данных (особенно синтетические) содержат комментарии или имена переменных, которые явно указывают тип уязвимости.\n",
    "Модель, обученная на таком наборе данных, на практике будет бесполезна.\n",
    "\n",
    "![](res/10_cwe457_comment.png)"
   ]
  },
  {
   "cell_type": "markdown",
   "metadata": {},
   "source": [
    "Качество датасетов:\n",
    "- 20\\%--71\\% меток уязвимостей в датасетах с реальными данными является [некорректными](https://arxiv.org/abs/2301.05456)\n",
    "- 17\\%--99\\% примеров [дублируются](https://arxiv.org/abs/2301.05456)\n",
    "- после обучения на таких датасетах в сценариях из реальной жизни качество моделей [падает](https://ieeexplore.ieee.org/abstract/document/9448435) более чем на 50\\%\n",
    "\n",
    "![](res/10_quality.png)\n",
    "\n",
    "![](res/10_attributes.png)"
   ]
  },
  {
   "cell_type": "markdown",
   "metadata": {},
   "source": [
    "## 2.1 Encoders\n",
    "\n",
    "1. Предобученный энкодер\n",
    "2. Fine-tune на датасет"
   ]
  },
  {
   "cell_type": "markdown",
   "metadata": {},
   "source": [
    "#### LineVul: локализация на уровне строк кода\n",
    "\n",
    "В [FuTantithamthavorn2022](https://michaelfu1998-create.github.io/papers/linevul.pdf) авторы выполняют локализацию уязвимостей на уровне строк:\n",
    "\n",
    "![](res/10_linevul.png)\n",
    "\n",
    "1. tokens that are most contributed to the predictions are likely to be vulnerable tokens\n",
    "2. for each subword token in the function, the authors summarize the self-attention scores from each of the 12 Transformer encoder blocks\n",
    "3. integrate those scores into line scores"
   ]
  },
  {
   "cell_type": "markdown",
   "metadata": {},
   "source": [
    "## 2.2 LLMs\n",
    "\n",
    "[Промпты](https://arxiv.org/abs/2308.12697) для детекции уязвимостей с помощью ChatGPT:\n",
    "- basic prompting\\item role-based basic prompt\n",
    "- reverse-question prompt\n",
    "- prompting with auxiliary information (Data Flow, API Calls)\n",
    "- Chain-of-Thought prompting"
   ]
  },
  {
   "cell_type": "markdown",
   "metadata": {},
   "source": [
    "Basic prompting:\n",
    "> Is the following program buggy? Please answer Yes or No. [CODE]\n",
    "\n",
    "Role-based basic prompt:\n",
    "> I want you to act as a vulnerability detection system. My first request is \"Is the following program buggy?\" Please answer Yes or No. [CODE]\n",
    "\n",
    "Reverse-question prompt:\n",
    "> I want you to act as a vulnerability detection system. My first request is \"Is the following program **correct**?\" Please answer Yes or No. [CODE]\n",
    "\n",
    "Prompting with auxiliary information:\n",
    "> I want you to act as a vulnerability detection system. I will provide you with the original program and the data flow information, and you will act upon them. Is the following program buggy? [CODE]. [Data Flow description].\n",
    ">\n",
    "> ![](res/10_aux.png)\n",
    ">\n",
    "> Data Flow description: The data value of the variable $v_i$ at the $p_i$-th token comes from/is computed by the variable $v_j$ at the $p_j$-th token.\n",
    "\n",
    "Chain-of-Thought Prompting:\n",
    "> 1. Please describe the intent of the given code. [CODE]\n",
    "> 2. I want you to act as a vulnerability detection system. Is the above program buggy? Please answer Yes or No.\n",
    "\n",
    "Недостатки:\n",
    "- много параметров\n",
    "- многие LLM являются закрытыми"
   ]
  },
  {
   "cell_type": "markdown",
   "metadata": {},
   "source": [
    "## 2.3 Agents\n",
    "\n",
    "See: [COLLABORATIVE AGENTS](09_collaborative_agents.ipynb)\n",
    "\n",
    "#### [CodeAgent: Collaborative Agents for Software Engineering](https://arxiv.org/abs/2402.02172)\n",
    "\n",
    "- A multi-agent-based system for code review.\n",
    "- Website: https://code-agent-new.vercel.app/index.html\n",
    "- Demo: https://code-agent-new.vercel.app/index.html#demo\n",
    "\n",
    "Tasks:\n",
    "- Semantic consistency detection between commit and commit message\n",
    "- Vulnerability analysis\n",
    "- Format consistency detection\n",
    "- Code revision\n",
    "\n",
    "![](res/09_codeagent_pipeline.png)"
   ]
  },
  {
   "cell_type": "markdown",
   "metadata": {},
   "source": [
    "#### Vulnerabilities\n",
    "\n",
    "![](res/09_codeagent_vulnerabilities.png)"
   ]
  },
  {
   "cell_type": "markdown",
   "metadata": {},
   "source": [
    "# 3. References\n",
    "\n",
    "- https://kontur.ru/bugbounty\n",
    "- https://svitla.com/blog/cybersecurity-threats\n",
    "- https://doi.org/10.1145/3533767.3534380\n",
    "- https://dl.acm.org/doi/10.1145/3549035.3561184\n",
    "- https://samate.nist.gov/SARD/\n",
    "- https://ieeexplore.ieee.org/abstract/document/9448435\n",
    "- https://michaelfu1998-create.github.io/papers/linevul.pdf\n",
    "- https://arxiv.org/abs/1807.04320\n",
    "- https://arxiv.org/abs/1909.03496\n",
    "- https://arxiv.org/abs/2009.07235\n",
    "- https://arxiv.org/abs/2102.07995\n",
    "- https://arxiv.org/abs/2301.05456\n",
    "- https://arxiv.org/abs/2304.00409\n",
    "- https://arxiv.org/abs/2308.12697\n",
    "- https://arxiv.org/abs/2402.02172"
   ]
  },
  {
   "cell_type": "code",
   "execution_count": null,
   "metadata": {},
   "outputs": [],
   "source": []
  }
 ],
 "metadata": {
  "kernelspec": {
   "display_name": "Python 3 (ipykernel)",
   "language": "python",
   "name": "python3"
  },
  "language_info": {
   "codemirror_mode": {
    "name": "ipython",
    "version": 3
   },
   "file_extension": ".py",
   "mimetype": "text/x-python",
   "name": "python",
   "nbconvert_exporter": "python",
   "pygments_lexer": "ipython3",
   "version": "3.10.13"
  }
 },
 "nbformat": 4,
 "nbformat_minor": 4
}

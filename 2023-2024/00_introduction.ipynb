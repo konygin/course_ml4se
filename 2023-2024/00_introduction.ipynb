{
 "cells": [
  {
   "cell_type": "markdown",
   "metadata": {},
   "source": [
    "# 0. INTRODUCTION\n",
    "\n",
    "1. О чём курс?\n",
    "2. Содержание курса"
   ]
  },
  {
   "cell_type": "markdown",
   "metadata": {},
   "source": [
    "# 1. О чём курс?\n",
    "\n",
    "ML4SE = Machine Learning for Software Engineering\n",
    "\n",
    "- генерация код\n",
    "- поиск по коду\n",
    "- детекция дефектов\n",
    "- генерация документации (суммаризация)\n",
    "- детекция аномалий в логах\n",
    "- и т.д.\n",
    "\n",
    "Мы будем в основном говорить о коде (AI4Code)."
   ]
  },
  {
   "cell_type": "markdown",
   "metadata": {},
   "source": [
    "## CodeXGlue Benchmark\n",
    "\n",
    "- [paper](https://arxiv.org/abs/2102.04664)\n",
    "- [github](https://github.com/microsoft/CodeXGLUE)\n",
    "\n",
    "![](res/00_codexglue.jpg)"
   ]
  },
  {
   "cell_type": "markdown",
   "metadata": {},
   "source": [
    "## Возможности LLMs для кода\n",
    "\n",
    "Задачи:\n",
    "\n",
    "- Code Generation\n",
    "- Code Completion\n",
    "- Code Translation and Modernization\n",
    "- Code Summarization\n",
    "- Code Refactoring\n",
    "- AI-Assisted Testing\n",
    "- Error Detection and Debugging\n",
    "\n",
    "Преимущества:\n",
    "\n",
    "- универсальность: одна модель на несколько задач (в том числе, для новых)\n",
    "- гибкость: возможность менять поведение модели без обучения\n",
    "- объясняемость: почему так? как исправить?"
   ]
  },
  {
   "cell_type": "markdown",
   "metadata": {},
   "source": [
    "## Почему это важно?\n",
    "\n",
    "Пара примеров:\n",
    "\n",
    "### [Microsoft Copilot](https://copilot.microsoft.com/)\n",
    "\n",
    "[*In the example below, I wrote a comment that says, “write a binary search algorithm,” and the first line of my function. GitHub Copilot correctly completed the function.*](https://github.blog/2022-09-14-8-things-you-didnt-know-you-could-do-with-github-copilot/)\n",
    "![](res/00_copilot.png)\n",
    "\n",
    "### Collaborative Agents\n",
    "\n",
    "Multi-agent-based system for code review.\n",
    "\n",
    "\n",
    "- [paper](https://arxiv.org/abs/2402.02172)\n",
    "- [website](https://code-agent-new.vercel.app/index.html)\n",
    "\n",
    "![](res/00_collaborative_agents.jpg)"
   ]
  },
  {
   "cell_type": "markdown",
   "metadata": {},
   "source": [
    "# 2. Содержание курса\n",
    "\n",
    "0. Introduction\n",
    "1. Code\n",
    "2. Machine Learning\n",
    "3. Seq2seq\n",
    "4. Transformers, I\n",
    "5. Transformers, II\n",
    "6. Code Representation\n",
    "7. LLMs Adaptation\n",
    "8. Code Generation\n",
    "9. Clone Detection\n",
    "10. Code Defects\n",
    "11. Code Search\n",
    "12. Multiagent Systems\n",
    "13. ? *Code Optimization*\n",
    "14. ? *LLMs Inference*"
   ]
  },
  {
   "cell_type": "code",
   "execution_count": null,
   "metadata": {},
   "outputs": [],
   "source": []
  }
 ],
 "metadata": {
  "kernelspec": {
   "display_name": "Python 3 (ipykernel)",
   "language": "python",
   "name": "python3"
  },
  "language_info": {
   "codemirror_mode": {
    "name": "ipython",
    "version": 3
   },
   "file_extension": ".py",
   "mimetype": "text/x-python",
   "name": "python",
   "nbconvert_exporter": "python",
   "pygments_lexer": "ipython3",
   "version": "3.10.13"
  }
 },
 "nbformat": 4,
 "nbformat_minor": 4
}

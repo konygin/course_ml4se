{
 "cells": [
  {
   "cell_type": "markdown",
   "metadata": {},
   "source": [
    "# 11. CODE SEARCH"
   ]
  },
  {
   "cell_type": "markdown",
   "metadata": {},
   "source": [
    "1. Introduction\n",
    "2. Bi-Encoder\n",
    "3. Cross-Encoder\n",
    "4. TOSS\n",
    "5. References"
   ]
  },
  {
   "cell_type": "markdown",
   "metadata": {},
   "source": [
    "# 1. Introduction"
   ]
  },
  {
   "cell_type": "markdown",
   "metadata": {},
   "source": [
    "#### Зачем нужен поиск по коду?\n",
    "\n",
    "- по текстовому описанию найти код, которые реализует указанный функционал\n",
    "- по коду найти аналогичный или похожий код"
   ]
  },
  {
   "cell_type": "markdown",
   "metadata": {},
   "source": [
    "#### Чем отличается поиск по коду от поиска по тексту?\n",
    "\n",
    "- языки программирования отличаются от естественных языков\n",
    "- код имеет вполне определённую структуру\n",
    "- наличие разных языков в одном репозитории\n",
    "- часто поисковый запрос и ответ на него написаны на разных языках"
   ]
  },
  {
   "cell_type": "markdown",
   "metadata": {},
   "source": [
    "#### Поисковые запросы\n",
    "\n",
    "Запрос (query) --- явное выражение поискового намерения, используемое пользователем.\n",
    "\n",
    "Что хотим от языка запросов?\n",
    "- Простота. Легко формулировать запрос.\n",
    "- Выразительность. Язык запросов должен позволять определить то, что надо найти.\n",
    "- Точность. Запросы должны позволять выразить намерение настолько однозначно, насколько это возможно.\n",
    "\n",
    "Типы языков запросов:\n",
    "1. Неформальные: в свободной форме\n",
    "2. Формальные:\n",
    "     - использующие общеизвестные языки программирования\n",
    "     - использующие специально разработанные языки программирования\n",
    "     - использующие пары: вход -- выход\n",
    "3. Гибридные"
   ]
  },
  {
   "cell_type": "markdown",
   "metadata": {},
   "source": [
    "#### Языки запросов в свободной форме\n",
    "\n",
    "> Например, `read file line by line`\n",
    "\n",
    "Запрос описывает намерение на естественном языке. Могут быть элементы языка программирования.\n",
    "\n",
    "> Например, `FileReader close`\n",
    "\n",
    "Преимущества:\n",
    "- удобно пользователю\n",
    "\n",
    "Недостатки\n",
    "- естественные языки неоднозначные (например, *float*)\n",
    "- словарь, используемый в запросах, может не соответствовать словарю кодовой базы (например, *array* и [.] в Python-е означают массив)\n",
    "\n",
    "Проблему несоответствия словарей (например, поиск регулярных варажений) можно облегчить, если вложить слова естественного языка и слова языка программирования в общее векторное пространство (word2vec, CodeBERT). Либо делать предобработку и расширение запросов."
   ]
  },
  {
   "cell_type": "markdown",
   "metadata": {},
   "source": [
    "#### Запросы на основе общеизвестных языков программирования\n",
    "\n",
    "Основные подходы:\n",
    "- фрагменты кода. Например, запрос --- это код с частичной реализацией, которую надо дописать:\n",
    "> ```try { File file = File . createTempFile (\" foo \" , \" bar \") ; } catch ( IOException e ) { }```\n",
    "- код с плейсхолдерами --- явно указаны пропущенные фрагменты кода:\n",
    ">```public void actionClose ( JButton a , JFrame f ) { __CODE_SEARCH__ ; } ```\n",
    "- код с некоторыми паттернами --- абстрактный шаблоны кода для поиска:\n",
    ">```if (# = #) @ ;```\n",
    "\n",
    "Недостатки:\n",
    "- проблема парсить код существующими библиотеками (надо сначала сделать код синтаксически корректным)\n",
    "\n",
    "Преимущества:\n",
    "- можно использовать в рекомендательной системы во время написания кода (экономится время за запрос)"
   ]
  },
  {
   "cell_type": "markdown",
   "metadata": {},
   "source": [
    "#### Запросы на основе специально разработанных языков программирования\n",
    "\n",
    "**Использование логических языков программирования**\n",
    "\n",
    "Предикаты, описывающие свойства кода. Например, найти пакет с классом, который называется `HelloWorld`:\n",
    ">```package (? P , class , ? C ) , class (? C , name , HelloWorld )```\n",
    "\n",
    "Иногда есть возможность задать более высокоуровневые свойства. Например, \n",
    ">```import count > 5 AND extends class FooBar```\n",
    "\n",
    "**Существенные расширения существующих языков**\n",
    "\n",
    "Например, поиск вложенных `if-else`:\n",
    ">```$ ( if $$ else $ ) $ + ```\n",
    "\n",
    "**Другие специальные языки**\n",
    "\n",
    "Например, описание программы так, что описываются вычисления через граф вычислений. Можно искать независимо от языка."
   ]
  },
  {
   "cell_type": "markdown",
   "metadata": {},
   "source": [
    "#### Использование пары: вход -- выход\n",
    "\n",
    "Подход интересен тем, что использует ключевую особенность кода --- исполнимость. Запрос через примеры описывает желаемое поведение. Например,\n",
    "> для входа `abc@def.org` хотим на выходе иметь `abc`."
   ]
  },
  {
   "cell_type": "markdown",
   "metadata": {},
   "source": [
    "#### Гибридные запросы\n",
    "\n",
    "Подходы комбинируют несколько вариантов, описанных выше. Например,\n",
    "> ```sort playerScores in ascending order```, где `playerScores` --- переменная из кода."
   ]
  },
  {
   "cell_type": "markdown",
   "metadata": {},
   "source": [
    "#### Общая схема  поиска по коду\n",
    "\n",
    "![](res/11_overview.png)\n",
    "\n",
    "([Grazia Pradel - Code search A survey of techniques for finding code 2022](https://arxiv.org/abs/2204.02765))\n",
    "\n",
    "- indexing: подготовка данных для последующего поиска (что индексируем, а что нет? какие связи остаются?)\n",
    "- preprocessing & expansion: изменение запроса пользователя для улучшения качества поиска (использование истории поиска; замена слов в запросе на основе синонимов или эмбеддингов и т.д.)\n",
    "- retrieval: извлечение кандидатов на основе запроса\n",
    "- ranking: ранжирование (на основании расстояний, методами машинного обучения)\n",
    "- pruning: фильтрация (по порогу, по количеству, убрать похожие)\n",
    "\n",
    "Бенчмарки:\n",
    "\n",
    "- CodeSearchNet\n",
    "- CodeXGLUE\n",
    "- Search4Net\n",
    "- CoSQA"
   ]
  },
  {
   "cell_type": "markdown",
   "metadata": {},
   "source": [
    "#### Подходы\n",
    "\n",
    "Существующие подходы поиска по коду условно можно разделить на две группы:\n",
    "1. методы на основе Information retrieval: они часто работают быстро, но иногда не совсем точны\n",
    "2. методы на основе DL: могут показывать высокое качество, но обычно более медленные из-за использования больших моделей.\n",
    "\n",
    "Среди DL-подходов, в свою очередь, можно выделить *биэнкодерные (bi-encoder)* и *кроссэнкодерные (cross-encoder)* решения."
   ]
  },
  {
   "cell_type": "markdown",
   "metadata": {},
   "source": [
    "# 2. Биэнкодерный подход\n",
    "\n",
    "В биэнкодерном подходе входные данные (текстовый запрос, код) независимо вкладываются в векторное пространство.\n",
    "\n",
    "![](./res/11_bi-encoder.png)\n",
    "\n",
    "Таким образом, эмбеддинги для кода могут быть вычислены заранее, что ускоряет работу поиска."
   ]
  },
  {
   "cell_type": "markdown",
   "metadata": {},
   "source": [
    "#### Обозначения\n",
    "\n",
    "Пусть\n",
    "- $q$ --- поисковый запрос\n",
    "- $C$ --- корпус кода (где происходит поиск)\n",
    "- $M(\\cdot, \\cdot)$ --- функция соответствия (match) сниппета кода $c$ поисковому запросу $q$, чем больше значение фунции $M$, тем лучше $c$ соответствует $q$.\n",
    "\n",
    "Тогда поиск по коду --- это поиск такого $c$ для запроса $q$, что значение $M(c, q)$ максимально:\n",
    "$$max_{c \\in C}M(c, q).$$"
   ]
  },
  {
   "cell_type": "markdown",
   "metadata": {},
   "source": [
    "#### Подход\n",
    "\n",
    "Пусть $c \\in C$ --- сниппет кода из корпуса $C$.\n",
    "Пусть $\\Gamma'$ и $\\Gamma''$ --- энкодеры для запросов и сниппетов кода, соответственно.\n",
    "Тогда через $e_q$ и $e_c$ обозначим эмбеддинги для $q$ и $c$:\n",
    "$$e_q = \\Gamma'(q)$$\n",
    "$$e_c = \\Gamma''(c).$$\n",
    "Кроме того, нам необходима некоторая функция похожести или функция расстояния $s_{bi}$ для векторов.\n",
    "Например, косинус угла между векторами или евклидово расстояние:\n",
    "$$s_{bi}: (e_q, e_c) \\mapsto R.$$\n",
    "\n",
    "Таким образом, имеем $$M_{bi}(\\cdot, \\cdot) = s_{bi}(\\Gamma'(\\cdot), \\Gamma''(\\cdot)).$$\n",
    "\n",
    "Энкодеры $\\Gamma'$ и $\\Gamma''$ --- нейронные сети, предварительно обученные на парах (текст, код)."
   ]
  },
  {
   "cell_type": "markdown",
   "metadata": {},
   "source": [
    "# 3. Кроссэнкодерный подход\n",
    "\n",
    "В отличие от бинэнкодеров в случае кроссэнкодера механизм эттеншна выполняется на паре запрос-код, таким образом  происходит взаимодействие информации на естественном языке с информацией на языке программирования в процессе векторизации.\n",
    "\n",
    "![](./res/11_cross-encoder.png)\n",
    "\n",
    "За счёт этого кроссэнкодерные подходы могут достичь более высокую точность, чем биэнкодерные решения.\n",
    "Но кроссэнкодерные подходы не могут создавать отдельные эмбеддинги для коды, необходимые для многих приложений."
   ]
  },
  {
   "cell_type": "markdown",
   "metadata": {},
   "source": [
    "#### Подход\n",
    "\n",
    "В этом подходе поисковый запрос и сниппет кода объединяются (конкатенируются через специальный токен $<SEP>$) и являются входом для модели $\\Gamma$, которая вычисляет кроссмодальную похожесть (энкодер+регрессия):\n",
    "\n",
    "$$M_{cr}(\\cdot, \\cdot) = \\Gamma([q, <SEP>, c]).$$"
   ]
  },
  {
   "cell_type": "markdown",
   "metadata": {},
   "source": [
    "# 4. TOSS\n",
    "\n",
    "Как объединить преимущества всех походов?\n",
    "\n",
    "![](./res/11_toss_paper.png)\n",
    "\n",
    "В работе [Revisiting Code Search in a Two-Stage Paradigm](https://arxiv.org/abs/2208.11274) авторы предложили\n",
    "TOSS (TwO-Stage fuSion code Search framework) --- двухэтапный фреймворк для поиска по коду, который сочетает в себе преимущества различных методов поиска кода.\n",
    "TOSS сначала использует модели на основе Information Retrieval и биэнкодерные модели для эффективного поиска небольшого количества лучших кандидатов, а затем использует кроссэнкодеры для более точного ранжирования."
   ]
  },
  {
   "cell_type": "markdown",
   "metadata": {},
   "source": [
    "#### Двухэтапный поиск по коду\n",
    "\n",
    "1. Сначала находим набор сниппетов-кандидатов на основе функции $M_{recall}$.\n",
    "2. Затем ранжируем набор кандидатов на основе функции $M_{rank}$.\n",
    "\n",
    "![](./res/11_toss_overview.png)\n",
    "\n",
    "Если одна модель на первом этапе.\n",
    "\n",
    "1. $C_{sub} = \\arg \\max_{C' \\subset C, |C'| = K} \\sum_{c \\in C'} M_{recall}(c, q)$ --- набор из $K$ кандидатов.\n",
    "\n",
    "Функция $M_{recall}$ должна быть быстрой, но, возможно, неточной.\n",
    "\n",
    "2. $c_{*}   = \\arg \\max_{c \\in C_{sub}}                          M_{rank  }(c, q)$ --- итоговый сниппет.\n",
    "\n",
    "Функция $M_{rank}$ может быть сложной.\n",
    "\n",
    "\n",
    "Кроме того, первый этап ($M_{recall}$) может включать несколько $m$ различных способов поиска по коду. Полученные кандидаты объединяются и отправляются на второй этап:\n",
    "\n",
    "$$C^{i}_{sub} = \\arg \\max_{C' \\subset C, |C'| = K} \\sum_{c \\in C'} M^i_{recall}(c, q), \\,\\,\\, 1 \\leq i \\leq m$$\n",
    "$$C_{all} = \\cup_{1 \\leq i \\leq m}C^i_{sub}$$"
   ]
  },
  {
   "cell_type": "markdown",
   "metadata": {},
   "source": [
    "# 5. References\n",
    "\n",
    "- [Grazia Pradel - Code search A survey of techniques for finding code 2022](https://arxiv.org/abs/2204.02765)\n",
    "- [Васильев - Поиск и навигация в IDE](https://www.youtube.com/watch?v=rhMGmDfmMNo&list=PLjufDdskD5S6jwrQZP-ikUtNWnRj5xNuN&index=18)\n",
    "- Birillo et al - Reflekt A library for compile-time reflection in Kotlin 2022\n",
    "- Chai et al - Cross-domain deep code search with few-shot meta learning 2022\n",
    "- Cheng Kuang - CSRS Code search with relevance matching and semantic matching 2022\n",
    "- Eberhart McMillan - Generating clarifying questions for query refinement in source code search 2022\n",
    "- Grazia et al - DiffSearch A scalable and precise search engine for code changes 2022\n",
    "- Gu et al - Accelerating code search with deep hashing and code classification 2022\n",
    "- Gu et al - Multimodal representation for neural code search 2022\n",
    "- Haldar et al - A multi-perspective architecture for semantic code search 2021\n",
    "- [Hu et al - Revisiting code search in a two-stage paradigm 2022](https://arxiv.org/abs/2208.11274)\n",
    "- Li et al - CodeRetriever Unimodal and bimodal contrastive learning for code search 2022\n",
    "- Liu et al - CodeMatcher Searching code based on sequential semantics of important query words 2022\n",
    "- Liu et al - GraphSearchNet Enhancing GNNs via capturing global dependency for semantic code search 2022\n",
    "- Shi et al - Enhancing semantic code search with multimodal contrastive learning and soft data augmentation 2022\n",
    "- Shuai et al - Improving code search with co-attentive representation learning 2020\n",
    "- Sun et al - Code search based on context-aware code translation 2022\n",
    "- Sun et al - On the importance of building high-quality training datasets for neural code search 2022\n",
    "- Villmow et al - Addressing leakage in self-supervised contextualized code retrieval 2022\n",
    "- Wang et al - Enriching query semantics for code search with reinforcement learning 2021\n",
    "- Yan et al - Are the code snippets what we are searching for A benchmark and an empirical study on code search with natural-language queries 2020\n",
    "- Zhang et al - Bag-of-words baselines for semantic code search 2021\n",
    "- https://ieeexplore.ieee.org/abstract/document/8453172\n",
    "- https://dl.acm.org/doi/abs/10.1145/2393596.2393606\n",
    "- https://ieeexplore.ieee.org/abstract/document/6606630"
   ]
  },
  {
   "cell_type": "code",
   "execution_count": null,
   "metadata": {},
   "outputs": [],
   "source": []
  }
 ],
 "metadata": {
  "kernelspec": {
   "display_name": "Python 3 (ipykernel)",
   "language": "python",
   "name": "python3"
  },
  "language_info": {
   "codemirror_mode": {
    "name": "ipython",
    "version": 3
   },
   "file_extension": ".py",
   "mimetype": "text/x-python",
   "name": "python",
   "nbconvert_exporter": "python",
   "pygments_lexer": "ipython3",
   "version": "3.10.13"
  }
 },
 "nbformat": 4,
 "nbformat_minor": 4
}

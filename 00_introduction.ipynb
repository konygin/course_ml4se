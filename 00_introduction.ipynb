{
 "cells": [
  {
   "cell_type": "markdown",
   "metadata": {},
   "source": [
    "# 0. INTRODUCTION\n",
    "\n",
    "1. What is the course about?\n",
    "2. Course Contents\n",
    "3. What Knowledge Will Be Useful?\n",
    "4. About the process"
   ]
  },
  {
   "cell_type": "markdown",
   "metadata": {},
   "source": [
    "# 1. What is the course about?\n",
    "\n",
    "ML4SE = Machine Learning for Software Engineering\n",
    "\n",
    "- code generation\n",
    "- code search\n",
    "- defect detection\n",
    "- documentation generation (summarization)\n",
    "- anomaly detection in logs\n",
    "- etc.\n",
    "\n",
    "We will mainly talk about code (AI4Code)."
   ]
  },
  {
   "cell_type": "markdown",
   "metadata": {},
   "source": [
    "## Why is ML4SE a hot topic?\n",
    "\n",
    "AI's impact on SE is growing\n",
    "\n",
    "![](./res/00_stackoverflow_vs_gpt4.png)"
   ]
  },
  {
   "cell_type": "markdown",
   "metadata": {},
   "source": [
    "![](./res/00_faster.png)"
   ]
  },
  {
   "cell_type": "markdown",
   "metadata": {},
   "source": [
    "[zerotomastery.io/blog/the-state-of-ai-tools-and-coding-2023-edition](zerotomastery.io/blog/the-state-of-ai-tools-and-coding-2023-edition)\n",
    "\n",
    "- 3240 developers from all over the world\n",
    "- 20+ specialties\n",
    "- different experience and age"
   ]
  },
  {
   "cell_type": "markdown",
   "metadata": {},
   "source": [
    "- 84.4% — have experience using AI tools\n",
    "- the most popular is ChatGPT: 74.9% of developers use it at least once a week, 41.4% — every day\n",
    "- 51.4% of those who have never used AI plan to start using it in the next six months\n",
    "- 80.5% of developers use AI instead of search; 58.5% — for writing code"
   ]
  },
  {
   "cell_type": "markdown",
   "metadata": {},
   "source": [
    "- 80.1% — experience with AI tools will become a standard requirement for hiring\n",
    "- 10.7% — experience with ChatGPT is on the list of requirements\n",
    "- 13.4% — are worried that in 5 years, today's work will be done by AI\n",
    "- 86.6% — are not worried, they believe that their work will evolve"
   ]
  },
  {
   "cell_type": "markdown",
   "metadata": {},
   "source": [
    "# 2. Course Contents\n",
    "\n",
    "0. Introduction\n",
    "1. Code: syntax, semantics; defects, bugs, defects, vulnerabilities; code metrics; AST, DFG, CPG, Rice's theorem\n",
    "2. Machine Learning: neural networks, gradient descent, backpropagation\n",
    "3. Seq2seq: tokenization\n",
    "4. Encoder: Encoder, self-attention, position ecodings\n",
    "5. Transformer: Decoder, Encoder-Decoder, LLMs\n",
    "6. Code Representation: CodeBERT, GraphCodeBERT, UniXCoder\n",
    "7. LLMs: ICL, PEFT, Alignment\n",
    "8. Clone Detection\n",
    "9. Collaborative Angents\n",
    "10. Code Defects\n",
    "11. Code Search\n",
    "12. Code Generation\n",
    "13. ..."
   ]
  },
  {
   "cell_type": "markdown",
   "metadata": {},
   "source": [
    "# 3. What Knowledge Will Be Useful?\n",
    "\n",
    "- calculus\n",
    "- linear algebra\n",
    "- probability theory\n",
    "- python\n",
    "- jupyter notebooks\n",
    "- colab\n",
    "- torch\n",
    "- transformers (huggingface)"
   ]
  },
  {
   "cell_type": "markdown",
   "metadata": {},
   "source": [
    "# 4. About the process\n",
    "\n",
    "- 1 lecture per week\n",
    "- homework at the end of the lecture\n",
    "- 2 weeks are given to complete the homework\n",
    "- uncompleted homework --- 0 points\n",
    "- at the end, the average score for all homework is calculated\n",
    "- if the result is not satisfactory, then you take the exam\n",
    "- questions and news: https://t.me/ml4se_course_chat"
   ]
  },
  {
   "cell_type": "code",
   "execution_count": null,
   "metadata": {},
   "outputs": [],
   "source": []
  }
 ],
 "metadata": {
  "kernelspec": {
   "display_name": "Python 3 (ipykernel)",
   "language": "python",
   "name": "python3"
  },
  "language_info": {
   "codemirror_mode": {
    "name": "ipython",
    "version": 3
   },
   "file_extension": ".py",
   "mimetype": "text/x-python",
   "name": "python",
   "nbconvert_exporter": "python",
   "pygments_lexer": "ipython3",
   "version": "3.10.13"
  }
 },
 "nbformat": 4,
 "nbformat_minor": 4
}

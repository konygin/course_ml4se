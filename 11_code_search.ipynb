{
 "cells": [
  {
   "cell_type": "markdown",
   "metadata": {},
   "source": [
    "# 11. CODE SEARCH"
   ]
  },
  {
   "cell_type": "markdown",
   "metadata": {},
   "source": [
    "1. Introduction\n",
    "2. Bi-Encoder\n",
    "3. Cross-Encoder\n",
    "4. TOSS\n",
    "5. RAG\n",
    "6. References"
   ]
  },
  {
   "cell_type": "markdown",
   "metadata": {},
   "source": [
    "# 1. Introduction"
   ]
  },
  {
   "cell_type": "markdown",
   "metadata": {},
   "source": [
    "#### Why do we need a code search?\n",
    "\n",
    "- by text description find the code that implements the specified functionality\n",
    "- by code find the same or similar code"
   ]
  },
  {
   "cell_type": "markdown",
   "metadata": {},
   "source": [
    "#### What is the difference between code search and text search?\n",
    "\n",
    "- programming languages differ from natural languages: the code has a structure\n",
    "- different programming languages in one repository\n",
    "- often the search query and the answer to it are written in different languages"
   ]
  },
  {
   "cell_type": "markdown",
   "metadata": {},
   "source": [
    "#### Search queries\n",
    "\n",
    "A query is an explicit expression of search intent used by the user.\n",
    "\n",
    "What do we want from a query language?\n",
    "- Simplicity. It is easy to formulate a query.\n",
    "- Expressiveness. A query language should allow one to define what one wants to find.\n",
    "- Precision. Queries should allow one to express intent as unambiguously as possible.\n",
    "\n",
    "Types of query languages:\n",
    "- Informal: free-form\n",
    "- Formal:\n",
    "  - using well-known programming languages\n",
    "  - using specially developed programming languages\n",
    "  - using pairs: input -- output\n",
    "- Hybrid"
   ]
  },
  {
   "cell_type": "markdown",
   "metadata": {},
   "source": [
    "#### Free-form query languages\n",
    "\n",
    "> For example, `read file line by line`\n",
    "\n",
    "The query describes the intent in natural language. May contain elements of the programming language.\n",
    "\n",
    "> For example, `FileReader close`\n",
    "\n",
    "Advantages:\n",
    "- convenient for the user\n",
    "\n",
    "Disadvantages:\n",
    "- ambiguity (e.g., *float*)\n",
    "- the dictionary used in the queries may not match the dictionary of the code base (e.g., *array* and [.] mean an array in Python)\n",
    "\n",
    "The problem of dictionary mismatch (e.g., searching for regular expressions) can be alleviated by embedding words of natural language and words of the programming language in a common vector space (word2vec, CodeBERT). Or by preprocessing and expanding the queries."
   ]
  },
  {
   "cell_type": "markdown",
   "metadata": {},
   "source": [
    "#### Queries based on common programming languages\n",
    "\n",
    "Main approaches:\n",
    "- code fragments. For example, a query is a code with a partial implementation that needs to be completed:\n",
    "> ```try { File file = File . createTempFile (\" foo \" , \" bar \") ; } catch ( IOException e ) { }```\n",
    "- code with placeholders --- missing code fragments are explicitly indicated:\n",
    ">```public void actionClose ( JButton a , JFrame f ) { __CODE_SEARCH__ ; } ```\n",
    "- code with some patterns --- abstract code templates for searching:\n",
    ">```if (# = #) @ ;```\n",
    "\n",
    "Disadvantages:\n",
    "- problem parsing code with existing libraries (you must first make the code syntactically correct)\n",
    "\n",
    "Advantages:\n",
    "- can be used in a recommender system while writing code (saves time per request)"
   ]
  },
  {
   "cell_type": "markdown",
   "metadata": {},
   "source": [
    "#### Queries based on specially designed programming languages\n",
    "\n",
    "**Using logical programming languages**\n",
    "\n",
    "Predicates that describe properties of the code. For example, find a package with a class called `HelloWorld`:\n",
    ">```package (? P , class , ? C ) , class (? C , name , HelloWorld )```\n",
    "\n",
    "Sometimes it is possible to specify higher-level properties. For example,\n",
    ">```import count > 5 AND extends class FooBar```\n",
    "\n",
    "**Significant extensions of existing languages**\n",
    "\n",
    "For example, finding nested `if-else`:\n",
    ">```$ ( if $$ else $ ) $ + ```\n",
    "\n",
    "**Other special languages**\n",
    "\n",
    "For example, describing a program so that computations are described through a computation graph. It is possible to search independently of the language."
   ]
  },
  {
   "cell_type": "markdown",
   "metadata": {},
   "source": [
    "#### Using a pair: input -- output\n",
    "\n",
    "The approach uses the key feature of code -- executability. The query describes the desired behavior through examples. For example,\n",
    "> for the input `abc@def.org` we want to have `abc` as the output."
   ]
  },
  {
   "cell_type": "markdown",
   "metadata": {},
   "source": [
    "#### Hybrid queries\n",
    "\n",
    "These approaches combine several of the options described above. For example,\n",
    "> ```sort playerScores in ascending order```, where `playerScores` is a variable from the code."
   ]
  },
  {
   "cell_type": "markdown",
   "metadata": {},
   "source": [
    "#### Overview of code search\n",
    "\n",
    "![](res/11_overview.png)\n",
    "\n",
    "[Source: [Grazia Pradel 2022](https://arxiv.org/abs/2204.02765)]"
   ]
  },
  {
   "cell_type": "markdown",
   "metadata": {},
   "source": [
    "- *indexing*: preparing data for subsequent search (what to index and what not? what connections remain?)\n",
    "- *preprocessing & expansion*: modifying the user's query to improve the search quality (using search history; replacing words in the query based on synonyms or embeddings, etc.)\n",
    "- *retrieval*: retrieving candidates based on the query\n",
    "- *ranking*: ranking (based on distances, using machine learning methods)\n",
    "- *pruning*: filtering (by threshold, by quantity, remove similar)"
   ]
  },
  {
   "cell_type": "markdown",
   "metadata": {},
   "source": [
    "#### Benchmarks\n",
    "\n",
    "- [CodeSearchNet](https://github.com/github/CodeSearchNet)\n",
    "- [CodeXGLUE](https://github.com/microsoft/CodeXGLUE)\n",
    "- [CoSQA](https://arxiv.org/abs/2105.13239)"
   ]
  },
  {
   "cell_type": "markdown",
   "metadata": {},
   "source": [
    "#### Approaches\n",
    "\n",
    "Existing approaches to code search can be divided into two groups:\n",
    "1. Information Retrieval-based methods: they often work quickly, but are sometimes not entirely accurate\n",
    "2. DL-based methods: they can show high quality, but are usually slower due to the use of large models.\n",
    "\n",
    "Among DL-approaches, in turn, we can distinguish *bi-encoder* and *cross-encoder* solutions."
   ]
  },
  {
   "cell_type": "markdown",
   "metadata": {},
   "source": [
    "# 2. Bi-encoder approach\n",
    "\n",
    "In the bi-encoder approach, the input data (text query, code) are independently embedded into a vector space.\n",
    "\n",
    "![](./res/11_bi-encoder.png)\n",
    "\n",
    "Thus, embeddings for the code can be calculated in advance, which speeds up the search."
   ]
  },
  {
   "cell_type": "markdown",
   "metadata": {},
   "source": [
    "#### Notations\n",
    "\n",
    "Let\n",
    "- $q$ --- search query\n",
    "- $C$ --- code corpus (where search occurs)\n",
    "- $M(\\cdot, \\cdot)$ --- function of matching (match) code snippet $c$ to search query $q$, the higher the value of function $M$, the better $c$ matches $q$.\n",
    "\n",
    "Then code search is a search for such $c$ for query $q$ that the value of $M(c, q)$ is maximal:\n",
    "$$max_{c \\in C}M(c, q).$$"
   ]
  },
  {
   "cell_type": "markdown",
   "metadata": {},
   "source": [
    "#### Approach\n",
    "\n",
    "Let $c \\in C$ be a code snippet from corpus $C$.\n",
    "Let $\\Gamma'$ and $\\Gamma''$ be encoders for queries and code snippets, respectively.\n",
    "Then let $e_q$ and $e_c$ denote embeddings for $q$ and $c$:\n",
    "$$e_q = \\Gamma'(q)$$\n",
    "$$e_c = \\Gamma''(c).$$\n",
    "In addition, we need some similarity function or distance function $s_{bi}$ for vectors.\n",
    "For example, the cosine of the angle between vectors or the Euclidean distance:\n",
    "$$s_{bi}: (e_q, e_c) \\mapsto R.$$\n",
    "\n",
    "Thus, we have $$M_{bi}(\\cdot, \\cdot) = s_{bi}(\\Gamma'(\\cdot), \\Gamma''(\\cdot)).$$\n",
    "\n",
    "The encoders $\\Gamma'$ and $\\Gamma''$ are neural networks pre-trained on pairs (text, code)."
   ]
  },
  {
   "cell_type": "markdown",
   "metadata": {},
   "source": [
    "# 3. Cross-encoder approach\n",
    "\n",
    "Unlike biencoders, in the case of a cross-encoder the attention mechanism is performed on the query-code pair, thus the interaction of information in a natural language with information in a programming language occurs during the vectorization process.\n",
    "\n",
    "![](./res/11_cross-encoder.png)\n",
    "\n",
    "Due to this, cross-encoder approaches can achieve higher accuracy than bi-encoder solutions.\n",
    "But cross-encoder approaches cannot create separate embeddings for the code, which are necessary for many applications."
   ]
  },
  {
   "cell_type": "markdown",
   "metadata": {},
   "source": [
    "#### Approach\n",
    "\n",
    "In this approach, the search query and code snippet are combined (concatenated via a special token $<SEP>$) and are input to the $\\Gamma$ model, which calculates cross-modal similarity (encoder + regression):\n",
    "\n",
    "$$M_{cr}(\\cdot, \\cdot) = \\Gamma([q, <SEP>, c]).$$"
   ]
  },
  {
   "cell_type": "markdown",
   "metadata": {},
   "source": [
    "# 4. TOSS\n",
    "\n",
    "How to combine the advantages of all approaches?\n",
    "\n",
    "![](./res/11_toss_paper.png)\n",
    "\n",
    "In [Revisiting Code Search in a Two-Stage Paradigm](https://arxiv.org/abs/2208.11274), the authors proposed\n",
    "TOSS (TwO-Stage fuSion code Search framework) --- a two-stage code search framework that combines the advantages of different code search methods.\n",
    "TOSS first uses Information Retrieval and biencoder models to efficiently find a small number of top candidates, and then uses crossencoders for more accurate ranking."
   ]
  },
  {
   "cell_type": "markdown",
   "metadata": {},
   "source": [
    "#### Two-stage code search\n",
    "\n",
    "1. First, find a set of candidate snippets based on the function $M_{recall}$.\n",
    "\n",
    "2. Then rank the set of candidates based on the function $M_{rank}$.\n",
    "\n",
    "![](./res/11_toss_overview.png)\n",
    "\n",
    "1. Consider a simple case where at the first stage (stage 1) we only have one model.\n",
    "\n",
    "$C_{sub} = \\arg \\max_{C' \\subset C, |C'| = K} \\sum_{c \\in C'} M_{recall}(c, q)$ --- a set of $K$ candidates.\n",
    "\n",
    "The function $M_{recall}$ should be fast, but possibly inaccurate.\n",
    "\n",
    "2. $c_{*} = \\arg \\max_{c \\in C_{sub}} M_{rank }(c, q)$ --- the final snippet.\n",
    "\n",
    "The $M_{rank}$ function can be complex.\n",
    "\n",
    "The first stage ($M_{recall}$) can include several ($m$) different ways to search the code. The resulting candidates are combined and sent to the second stage:\n",
    "\n",
    "$$C^{i}_{sub} = \\arg \\max_{C' \\subset C, |C'| = K} \\sum_{c \\in C'} M^i_{recall}(c, q), \\,\\,\\, 1 \\leq i \\leq m$$\n",
    "$$C_{all} = \\cup_{1 \\leq i \\leq m}C^i_{sub}$$"
   ]
  },
  {
   "cell_type": "markdown",
   "metadata": {},
   "source": [
    "# 5. RAG"
   ]
  },
  {
   "cell_type": "markdown",
   "metadata": {},
   "source": [
    "Retrieval Augmented Generation --- next lecture"
   ]
  },
  {
   "cell_type": "markdown",
   "metadata": {},
   "source": [
    "# 6. References\n",
    "\n",
    "- [Grazia Pradel - Code search A survey of techniques for finding code 2022](https://arxiv.org/abs/2204.02765)\n",
    "- Birillo et al - Reflekt A library for compile-time reflection in Kotlin 2022\n",
    "- Chai et al - Cross-domain deep code search with few-shot meta learning 2022\n",
    "- Cheng Kuang - CSRS Code search with relevance matching and semantic matching 2022\n",
    "- Eberhart McMillan - Generating clarifying questions for query refinement in source code search 2022\n",
    "- Grazia et al - DiffSearch A scalable and precise search engine for code changes 2022\n",
    "- Gu et al - Accelerating code search with deep hashing and code classification 2022\n",
    "- Gu et al - Multimodal representation for neural code search 2022\n",
    "- Haldar et al - A multi-perspective architecture for semantic code search 2021\n",
    "- [Hu et al - Revisiting code search in a two-stage paradigm 2022](https://arxiv.org/abs/2208.11274)\n",
    "- Li et al - CodeRetriever Unimodal and bimodal contrastive learning for code search 2022\n",
    "- Liu et al - CodeMatcher Searching code based on sequential semantics of important query words 2022\n",
    "- Liu et al - GraphSearchNet Enhancing GNNs via capturing global dependency for semantic code search 2022\n",
    "- Shi et al - Enhancing semantic code search with multimodal contrastive learning and soft data augmentation 2022\n",
    "- Shuai et al - Improving code search with co-attentive representation learning 2020\n",
    "- Sun et al - Code search based on context-aware code translation 2022\n",
    "- Sun et al - On the importance of building high-quality training datasets for neural code search 2022\n",
    "- Villmow et al - Addressing leakage in self-supervised contextualized code retrieval 2022\n",
    "- Wang et al - Enriching query semantics for code search with reinforcement learning 2021\n",
    "- Yan et al - Are the code snippets what we are searching for A benchmark and an empirical study on code search with natural-language queries 2020\n",
    "- Zhang et al - Bag-of-words baselines for semantic code search 2021\n",
    "- https://ieeexplore.ieee.org/abstract/document/8453172\n",
    "- https://dl.acm.org/doi/abs/10.1145/2393596.2393606\n",
    "- https://ieeexplore.ieee.org/abstract/document/6606630"
   ]
  },
  {
   "cell_type": "code",
   "execution_count": null,
   "metadata": {},
   "outputs": [],
   "source": []
  }
 ],
 "metadata": {
  "kernelspec": {
   "display_name": "Python 3 (ipykernel)",
   "language": "python",
   "name": "python3"
  },
  "language_info": {
   "codemirror_mode": {
    "name": "ipython",
    "version": 3
   },
   "file_extension": ".py",
   "mimetype": "text/x-python",
   "name": "python",
   "nbconvert_exporter": "python",
   "pygments_lexer": "ipython3",
   "version": "3.10.13"
  }
 },
 "nbformat": 4,
 "nbformat_minor": 4
}

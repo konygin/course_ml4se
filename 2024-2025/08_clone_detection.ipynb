{
 "cells": [
  {
   "cell_type": "markdown",
   "metadata": {},
   "source": [
    "# 08. CLONE DETECTION"
   ]
  },
  {
   "cell_type": "markdown",
   "metadata": {},
   "source": [
    "1. Introduction\n",
    "2. Approaches\n",
    "3. LLMs\n",
    "4. Exercise\n",
    "5. References"
   ]
  },
  {
   "cell_type": "markdown",
   "metadata": {},
   "source": [
    "# 1. Introduction"
   ]
  },
  {
   "cell_type": "markdown",
   "metadata": {},
   "source": [
    "#### DEFINITION\n",
    "\n",
    "Clones are code fragments implementing the same functionality.\n",
    "\n",
    "Relationship between syntax and semantics:\n",
    "- identical syntax => identical semantics\n",
    "- regular code: different syntax, different semantics\n",
    "- anti-patterns, bugs: similar syntax & different semantics\n",
    "- clones: identical semantics\n",
    "\n",
    "Clones often arise as a result of \"copy & paste\"."
   ]
  },
  {
   "cell_type": "markdown",
   "metadata": {},
   "source": [
    "#### TYPES\n",
    "\n",
    "**Type-1 (Exact clones)**\n",
    "\n",
    "Identical code fragments except for differences in whitespace, comments, and layout.\n",
    "\n",
    "**Type-2 (Renamed/Parameterized)**\n",
    "\n",
    "Identical code fragments except for differences in identifier names and literal values, in addition to the differences of type 1 clones.\n",
    "\n",
    "**Type-3 (Near miss clones/Gapped clones)**\n",
    "\n",
    "Syntactically similar code fragments that contain added, changed, and/or removed code statements, in addition to the differences of type 1 and type 2 clones.\n",
    "\n",
    "**Type-4 (Semantic clones)**\n",
    "\n",
    "Syntactically different code fragments, but semantically similar in terms of functionality.\n",
    "\n",
    "> Examples:\n",
    "> ![types](./res/08_clone_types.png)\n",
    ">\n",
    "> ![types](./res/08_equivalent_transformations.png)"
   ]
  },
  {
   "cell_type": "markdown",
   "metadata": {},
   "source": [
    "#### BENEFITS OF DETECTING CLONES\n",
    "\n",
    "While cloning can be useful in many ways, it can also be harmful when it comes to software maintenance and development.\n",
    "\n",
    "For example, if a bug is found in a piece of code, all clones should be checked for the same bug. Duplicated fragments can also significantly increase the amount of work when improving or adapting code.\n",
    "\n",
    "In addition, deduplication (clone exclusion) is a standard process when preparing datasets."
   ]
  },
  {
   "cell_type": "markdown",
   "metadata": {},
   "source": [
    "#### HOW MANY CLONES ARE THERE\n",
    "\n",
    "Reusing code fragments by copying and pasting with little or no adaptation is common in software development.\n",
    "\n",
    "As a result, software systems often contain clones. Research shows that a significant proportion (7% to 23%) of the code in a typical software system has been cloned.\n",
    "\n",
    "- Linux: 22.3% ([Sheneamer Kalita, 2016](https://www.ijcaonline.org/archives/volume137/number10/24308-2016908896))\n",
    "- JDK: 29% ([Kamiya et al, 2002](https://www.cs.drexel.edu/~spiros/teaching/CS675/papers/clone-kamiya.pdf))\n",
    "\n",
    "70% of the code on GitHub consists of clones of previously created files."
   ]
  },
  {
   "cell_type": "markdown",
   "metadata": {},
   "source": [
    "#### CODE DUPLICATION MAP ([Lopes et al, 2017](http://janvitek.org/pubs/oopsla17b.pdf)):\n",
    "\n",
    "- X-axis: number of files per project\n",
    "- Y-axis: number of commits per project\n",
    "\n",
    "The number in each square is the percentage of duplicate files for all projects in that square.\n",
    "\n",
    "![dejavu](./res/08_dejavu_tiles_1.png)\n",
    "![dejavu](./res/08_dejavu_tiles_2.png)"
   ]
  },
  {
   "cell_type": "markdown",
   "metadata": {},
   "source": [
    "#### DATASETS\n",
    "\n",
    "- [BigCloneBench](https://github.com/clonebench/BigCloneBench) --- includes over 8M clones from 25K Java repositories\n",
    "- [BigCloneEval](https://github.com/jeffsvajlenko/BigCloneEval) --- a framework for testing different clone detection methods"
   ]
  },
  {
   "cell_type": "markdown",
   "metadata": {},
   "source": [
    "# 2. Approaches"
   ]
  },
  {
   "cell_type": "markdown",
   "metadata": {},
   "source": [
    "#### TEXT-BASED\n",
    "\n",
    "For example, based on string comparison.\n",
    "\n",
    "1. normalize the code\n",
    "2. calculate the value of some hash function for each string\n",
    "3. visualize as a matrix: if two strings have the same hash function value, then write 1, otherwise 0\n",
    "4. identify patterns (for example, diagonal sequences) of ones, they correspond to repeating code\n",
    "\n",
    "> Example:\n",
    ">\n",
    "> ([Ducasse et al, 1999](https://ieeexplore.ieee.org/document/792593))\n",
    ">\n",
    "> ![](./res/08_clones_text.png)"
   ]
  },
  {
   "cell_type": "markdown",
   "metadata": {},
   "source": [
    "#### TOKEN-BASED\n",
    "\n",
    "Instead of comparing symbols, token comparison is used.\n",
    "\n",
    "In token-based approaches, each line of source code is divided into tokens according to the lexical rules of the programming language of interest. Together, the tokens form a token sequence used for comparison. All whitespace (including line breaks and tabs) and comments between tokens are removed from the token sequences.\n",
    "\n",
    "For example, if code fragments differ only in variable names, then different names will correspond to the same tokens and, therefore, will not interfere with the comparison.\n",
    "\n",
    "For example:\n",
    "- [CCFinder](https://www.cs.drexel.edu/~spiros/teaching/CS675/papers/clone-kamiya.pdf)\n",
    "- [CCFinderX](https://github.com/gpoo/ccfinderx)"
   ]
  },
  {
   "cell_type": "markdown",
   "metadata": {},
   "source": [
    "#### AST-BASED\n",
    "\n",
    "Comparison is based on abstract syntax trees.\n",
    "\n",
    "For example, like this:\n",
    "1. an abstract syntax tree is built\n",
    "2. subtrees are identified\n",
    "3. the values of some hash function for these subtrees are calculated\n",
    "4. if two subtrees have the same value, then an additional comparison of the two trees occurs\n",
    "\n",
    "![](https://leanovate.github.io/bedcon/talk/abstract_syntax_tree.png)"
   ]
  },
  {
   "cell_type": "markdown",
   "metadata": {},
   "source": [
    "#### DATA FLOW BASED\n",
    "\n",
    "Token-based and syntax-based clone detection methods depend on the order in which the program instructions are written.\n",
    "If developers swap instructions in the copied code, the copied code will not be found as a clone.\n",
    "\n",
    "However, the order cannot be changed arbitrarily without changing the meaning of the program.\n",
    "A program dependency graph is a representation of a program that represents only the control and data dependencies between statements.\n",
    "\n",
    "![](https://www.researchgate.net/profile/Sergey-Troshin/publication/358740900/figure/fig1/AS:11431281080328895@1661254252291/Example-of-Data-Flow-Graph-from-GraphCodeBERT-Guo-et-al-2021_W640.jpg)\n",
    "\n",
    "Clones can be identified as isomorphic subgraphs in the software dependency graph.\n",
    "\n",
    "The problem is NP-hard, and approximate algorithms are used.\n",
    "\n",
    "> Example of isomorphic graphs\n",
    ">\n",
    "> ![](https://static.javatpoint.com/tutorial/dms/images/graph-isomorphism-in-discrete-mathematics.png)"
   ]
  },
  {
   "cell_type": "markdown",
   "metadata": {},
   "source": [
    "#### IMAGE-BASED\n",
    "\n",
    "[Ragkhitwetsagul et al - A picture is worth a thousand words Code clone detection based on image similarity 2018](https://ieeexplore.ieee.org/document/8327318)\n",
    "\n",
    "![scheme](./res/08_clone_detection_image_scheme.png)\n",
    "\n",
    "Approach:\n",
    "\n",
    "1.\n",
    "  - parse code and extract methods\n",
    "  - remove comments\n",
    "  - print pretty\n",
    "  - convert to html with syntax highlighting\n",
    "2.\n",
    "  - convert each method to PNG image\n",
    "  - get RGB image\n",
    "3.\n",
    "  - convert image to negative image\n",
    "  - apply filters (Gaussian filter, for example)\n",
    "4.\n",
    "  - compare two images. One can use **The Earth Mover’s Distance (EMD)** --- a metric that treats image comparison as a transportation problem (optimal transportation problem), finding the minimum cost of transforming one distribution to another\n",
    "\n",
    "![](./res/08_clone_detection_image_1.png)\n",
    "![](./res/08_clone_detection_image_2.png)\n",
    "![](./res/08_clone_detection_image_3.png)"
   ]
  },
  {
   "cell_type": "markdown",
   "metadata": {},
   "source": [
    "#### EMBEDDING-BASED\n",
    "\n",
    "Vectors are compared in a metric space. Vectors are built based on various metrics or pre-trained models (BERT, RoBERTa, CodeBERT, GraphCodeBERT, ...)."
   ]
  },
  {
   "cell_type": "markdown",
   "metadata": {},
   "source": [
    "**Contrastive learning** is an approach in machine learning to identify similar and dissimilar objects.\n",
    "The model learns to build embeddings for objects in such a way that similar objects will have close vectors, and different objects, accordingly, will differ.\n",
    "Therefore, the decision whether two programs are clones or not is made based on the distances between the two vectors.\n",
    "\n",
    "![](./res/08_contrastive_learning_pipeline.png)\n",
    "\n",
    "- $o$, $o'$ --- two different objects\n",
    "- $f$ --- an encoder model\n",
    "- $q$, $k$ --- embeddings of the objects\n",
    "- $g$ --- a special projector model which is specific for algorithm (in a simple case, $g$ can be an identical function, i.e., just pass $q$ and $k$ onwards\n",
    "- $q'$, $k'$ --- transformed vectors for the loss function $L$\n",
    "\n",
    "**More details**\n",
    "- [Evaluation of Contrastive Learning with Various Code Representations for Code Clone Detection](https://arxiv.org/abs/2206.08726)"
   ]
  },
  {
   "cell_type": "markdown",
   "metadata": {},
   "source": [
    "# 3. LLMs\n",
    "\n",
    "[Towards Understanding the Capability of Large Language Models on Code Clone Detection: A Survey](https://arxiv.org/abs/2308.01191)\n",
    "\n",
    "Clones:\n",
    "\n",
    "Additional sub-categories for Type-3 and Type-4 clones based on their syntactical similarity scores:\n",
    "- Very Strongly Type-3 (VST3) clones, with similarity scores in the range of [0.9, 1.0)\n",
    "- Strongly Type-3 (ST3) clones, with similarity scores between [0.7, 0.9)\n",
    "- Moderately Type-3 (MT3) clones, with similarity scores between [0.5, 0.7)\n",
    "- Weakly Type-3/Type-4 (WT3/T4) clones, with similarity scores between [0.0, 0.5)\n",
    "\n",
    "Instructions:\n",
    "\n",
    "![](res/08_prompts.png)"
   ]
  },
  {
   "cell_type": "markdown",
   "metadata": {},
   "source": [
    "#### RQ1: Can LLMs detect code clones with a simple prompt?\n",
    "\n",
    "![](res/08_llms_vs_non-llms.png)\n",
    "\n",
    "\n",
    "> Using open-source LLMs for clone detection yields superior results in identifying Type-3 and Type-4 clone pairs when relying solely on a simple prompt. However, it does exhibit slightly poorer performance when detecting Type-1 and Type-2 clone pairs compared to existing tools. Notably, GPT-3.5-Turbo and GPT-4 stand out with the highest recall and accuracy rates across nearly all clone types."
   ]
  },
  {
   "cell_type": "markdown",
   "metadata": {},
   "source": [
    "#### RQ2: How do LLMs perform by using one-step chain-of-thought prompts?\n",
    "\n",
    "* In one-step prompt engineering, the model is tasked with detecting code clones from various perspectives (i.e. clone type, similarity, and analogous lines of code pair).\n",
    "* In multi-step prompt engineering, the model initially analyzes each function from multiple perspectives, subsequently integrating all the intermediate reasonings. This approach enables the model to detect code clones with prior knowledge, rather than merely following human instructions to provide a binary \"yes\" or \"no\" response.\n",
    "\n",
    "\n",
    "![](res/08_clone_type_reasoning.png)\n",
    "\n",
    "![](res/08_similar_line_reasoning.png)\n",
    "\n",
    "> The clone detection performance of GPT-3.5-Turbo and GPT-4 can be improved by requiring models to provide clone type, similarity, reasoning, and similarity lines. Using one-step chain-of-thought prompts allows the models to analyze code pairs and intermediate reasoning, leading to better clone detection."
   ]
  },
  {
   "cell_type": "markdown",
   "metadata": {},
   "source": [
    "#### RQ3: Can LLMs perform better by using multi-step chain-of-thought prompts?\n",
    "\n",
    "![](res/08_separate_explanation_codes.png)\n",
    "\n",
    "> The clone detection performance of GPT-3.5-Turbo and GPT-4 can be improved by Multi-Step Chain-of-Thought prompts, including separating explanations and codes. Different from RQ2, separating explanations provide models of independent intermediate reasoning of code, and separating codes provide models of independent explanation of code, which avoid the influences between generated information."
   ]
  },
  {
   "cell_type": "markdown",
   "metadata": {},
   "source": [
    "#### RQ4: How do LLMs perform using code embedding?\n",
    "\n",
    "This question focuses on whether LLMs can provide superior results compared to traditional pre-trained language models through code compression. \n",
    "\n",
    "![](res/08_similarity_distribution.png)\n",
    "\n",
    "> Text-embedding-ada-002 is more effective than specialized CodeBERT models in identifying cloned code, exhibiting superior overall performance. The advantage of Text-embedding-ada-002 lies in its capacity to generate a wider range of similarity scores, leading to better discrimination between true and false positives."
   ]
  },
  {
   "cell_type": "markdown",
   "metadata": {},
   "source": [
    "#### RQ5: How does the performance of LLMs in code clone detection vary across different programming languages?\n",
    "\n",
    "![](res/08_different_languages.png)\n",
    "\n",
    "> The performance of LLMs in code clone detection varies across different programming languages, with a trend of superior results in Python, likely due to its inherent simplicity and prevalence in training data"
   ]
  },
  {
   "cell_type": "markdown",
   "metadata": {},
   "source": [
    "# 4. Exercise\n",
    "\n",
    "Compare the performance of pre-trained models (e.g. CodeBERT, GraphCodeBERT) and LLM in the clone detection task. Draw conclusions."
   ]
  },
  {
   "cell_type": "markdown",
   "metadata": {},
   "source": [
    "# 5. References\n",
    "\n",
    "- Allamanis - The adverse effects of code duplication in machine learning models of code\n",
    "- Baker - On finding duplication and near-duplication in large software systems\n",
    "- Bogomolov et al - Sosed A tool for finding similar software projects\n",
    "- [Code code analysis](https://link.springer.com/book/10.1007/978-981-16-1927-4)\n",
    "- Ducasse et al - A language independent approach for detecting duplicated code\n",
    "- Gupta Gupta - Literature survey of clone detection techniques\n",
    "- Huang et al - Code clone detection based on event embedding and event dependency\n",
    "- Ivanov et al - AntiCopyPaster Extracting code duplicates as soon as they are introduced in the IDE\n",
    "- Khajezade et al - Evaluating few shot and contrastive learning methods for code clone detection\n",
    "- Kim et al - Revisiting binary code similarity analysis using interpretable feature engineering and lessons learned\n",
    "- Koschke - Survey of research on software clones\n",
    "- Lopes et al - DejaVu A map of code duplicates on GitHub\n",
    "- Nadim et al - Evaluating the performance of clone detection tools in detecting cloned co-change candidates\n",
    "- Ragkhitwetsagul - Code similarity and clone search in large-scale source code data\n",
    "- Ragkhitwetsagul et al - A picture is worth a thousand words Code clone detection based on image similarity\n",
    "- Rahman et al - Clone detection on large Scala codebases\n",
    "- Roy et al - Comparison and evaluation of code clone detection techniques and tools\n",
    "- Saini et al - Oreo Detection of clones in the twilight zone\n",
    "- Sheneamer Kalita - A survey of software clone detection techniques\n",
    "- [Svajlenko Roy - A survey on the evaluation of clone detection performance and benchmarking](https://arxiv.org/abs/2006.15682)\n",
    "- Svajlenko Roy - Efficiently measuring an accurate and generalized clone detection precision using clone clustering\n",
    "- White et al - Deep learning code fragments for code clone detection\n",
    "- Yahay Kim - Cross-languages source code clone detection using deep learning with InferCode\n",
    "- Zhang et al - Challenging machine learning-based clone detectors via semantic-preserving code transformations\n",
    "- Zhang et al - The development and prospect of code clone\n",
    "- Zubkov et al - Evaluation of contrastive learning with various code representations for code clone detection 2022"
   ]
  },
  {
   "cell_type": "code",
   "execution_count": null,
   "metadata": {},
   "outputs": [],
   "source": []
  }
 ],
 "metadata": {
  "kernelspec": {
   "display_name": "Python 3 (ipykernel)",
   "language": "python",
   "name": "python3"
  },
  "language_info": {
   "codemirror_mode": {
    "name": "ipython",
    "version": 3
   },
   "file_extension": ".py",
   "mimetype": "text/x-python",
   "name": "python",
   "nbconvert_exporter": "python",
   "pygments_lexer": "ipython3",
   "version": "3.10.13"
  }
 },
 "nbformat": 4,
 "nbformat_minor": 4
}

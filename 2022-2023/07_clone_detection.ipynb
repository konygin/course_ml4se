{
 "cells": [
  {
   "cell_type": "markdown",
   "metadata": {},
   "source": [
    "# 07. CLONE DETECTION"
   ]
  },
  {
   "cell_type": "markdown",
   "metadata": {},
   "source": [
    "1. [x] введение\n",
    "2. [x] подходы\n",
    "3. [x] упражнение\n",
    "3. [x] Ссылки"
   ]
  },
  {
   "cell_type": "markdown",
   "metadata": {},
   "source": [
    "# 1. Введение"
   ]
  },
  {
   "cell_type": "markdown",
   "metadata": {},
   "source": [
    "## Что такое клоны?\n",
    "\n",
    "Клоны — это фрагменты кода, похожие в соответствии с некоторым определением подобия.\n",
    "\n",
    "В соответствии с этим определением могут быть разные понятия подобия. Они могут быть основаны на тексте, лексической или синтаксической структуре или семантике. Часто возникают в результате \"copy & paste\"."
   ]
  },
  {
   "cell_type": "markdown",
   "metadata": {},
   "source": [
    "## Какие бывают?\n",
    "\n",
    "#### Type-1 (Exact clones)\n",
    "\n",
    "Идентичные фрагменты кода, за исключением различий в пробелах, комментариях и вёрстке.\n",
    "\n",
    "#### Type-2 (Renamed/Parameterized)\n",
    "\n",
    "Идентичные фрагменты кода, за исключением различий в именах идентификаторов и литеральных значениях, в дополнение к различиям клонов типа 1.\n",
    "\n",
    "#### Type-3 (Near miss clones/Gapped clones)\n",
    "\n",
    "Синтаксически похожие фрагменты кода, которые содержат добавленные, измененные и/или удаленные операторы кода, в дополнение к различиям клонов типа 1 и типа 2.\n",
    "\n",
    "#### Type-4 (Semantic clones)\n",
    "\n",
    "Синтаксически разные фрагменты кода, но семантически схожие с точки зрения функционала.\n",
    "\n",
    "\n",
    "> Примеры:\n",
    "> ![types](./res/07_clone_types.png)\n",
    ">\n",
    "> Эквивалентные преобразования:\n",
    "> ![types](./res/07_equivalent_transformations.png)"
   ]
  },
  {
   "cell_type": "markdown",
   "metadata": {},
   "source": [
    "## Почему это плохо?\n",
    "\n",
    "Несмотря на то, что клонирование может быть полезным во многих отношениях, оно также может быть вредным при обслуживании и развитии программного обеспечения.\n",
    "\n",
    "Например, если в каком-то фрагменте кода обнаружена ошибка, то все клоны должны быть проверены на наличие такой же ошибки. Дублированные фрагменты также могут значительно увеличить объем работы при улучшении или адаптации кода.\n",
    "\n",
    "\n",
    "Кроме того, дедупликация (исключение клонов) --- стандартный процесс при подготовке датасетов."
   ]
  },
  {
   "cell_type": "markdown",
   "metadata": {},
   "source": [
    "## Почему эта проблема значимая?\n",
    "\n",
    "Повторное использование фрагментов кода путем копирования и вставки с незначительной адаптацией или без нее — обычное дело при разработке программного обеспечения.\n",
    "\n",
    "В результате программные системы часто содержат клоны. Исследования показывают, что значительная часть (от 7% до 23%) кода в типичной программной системе была клонирована.\n",
    "\n",
    "- Linux: 22.3% ([Sheneamer Kalita, 2016](https://www.ijcaonline.org/archives/volume137/number10/24308-2016908896))\n",
    "- JDK: 29% ([Kamiya et al, 2002](https://www.cs.drexel.edu/~spiros/teaching/CS675/papers/clone-kamiya.pdf))\n",
    "\n",
    "70% кода на GitHub состоит из клонов ранее созданных файлов.\n",
    "\n",
    "\n",
    "#### Карта дублирования кода ([Lopes et al, 2017](http://janvitek.org/pubs/oopsla17b.pdf)):\n",
    "\n",
    "- ось Y --- количество коммитов на проект\n",
    "- ось X --- количество файлов в проекте.\n",
    "\n",
    "Значение на каждой плитки --- это процент дублированных файлов для всех проектов в плитке.\n",
    "\n",
    "![dejavu](./res/07_dejavu_tiles_1.png)\n",
    "![dejavu](./res/07_dejavu_tiles_2.png)"
   ]
  },
  {
   "cell_type": "markdown",
   "metadata": {},
   "source": [
    "# 2. Подходы\n",
    "\n",
    "- текст\n",
    "- токены\n",
    "- вектора\n",
    "- AST\n",
    "- графы\n",
    "- изображения"
   ]
  },
  {
   "cell_type": "markdown",
   "metadata": {},
   "source": [
    "## Сравнение на основе текста\n",
    "\n",
    "Например, сравнения на уровне строк.\n",
    "- 1. нормализуем код\n",
    "- 2. для каждой строки вычисляем значение некоторой хэш-функции\n",
    "- 3. визуализируем в виде матрицы: если две строки имеют одинаковое значение хэш-функции, то пишем 1, иначе 0\n",
    "- 4. выявляем паттеры (например, диагональные последовательности) из единиц, они соответствуют повторяющемуся коду\n",
    "\n",
    "Другие подходы используют, например, эффективные алгоритмы сравнения строк.\n",
    "\n",
    "> Пример:\n",
    ">\n",
    "> ([Ducasse et al, 1999](https://ieeexplore.ieee.org/document/792593))\n",
    "> \n",
    "> ![](./res/07_clones_text.png)"
   ]
  },
  {
   "cell_type": "markdown",
   "metadata": {},
   "source": [
    "## Сравнение на основе токенов\n",
    "\n",
    "Сравнение тоже может происходит на уровне строк. Но вместо сравнения символов используется сравнение токенов.\n",
    "\n",
    "В случае подходов на основе токенов каждая строка исходного кода делится на токены в соответствии с лексическими правилами интересующего языка программирования. Токены вместе образуют последовательность токенов, используемую для сравнения. Все пробелы (включая разрывы строк и табуляции) и комментарии между токенами удаляются из последовательностей токенов.\n",
    "\n",
    "Например, если фрагменты кода отличаются только названиями переменных, то разные названия будут соответствовать одному и тому же токены и, поэтому, не помешают при сравнении.\n",
    "\n",
    "> Пример:\n",
    "> \n",
    "> [CCFinder](https://www.cs.drexel.edu/~spiros/teaching/CS675/papers/clone-kamiya.pdf), [CCFinderX](https://github.com/gpoo/ccfinderx)\n",
    ">"
   ]
  },
  {
   "cell_type": "markdown",
   "metadata": {},
   "source": [
    "## Сравнение на основе абстрактных синтаксических деревьев\n",
    "\n",
    "Например, так:\n",
    "1. строится абстрактное синтаксическое дерево\n",
    "2. выделяются поддеревья\n",
    "3. вычисляются значения некоторой хэш-функции для этих поддеревьев\n",
    "4. если два поддерева получили одинаково значение, то происходит дополнительное сравнение двух деревьев\n",
    "\n",
    "\n",
    "![](https://leanovate.github.io/bedcon/talk/abstract_syntax_tree.png)"
   ]
  },
  {
   "cell_type": "markdown",
   "metadata": {},
   "source": [
    "## Сравнение на основе потока данных\n",
    "\n",
    "Методы на основе токенов и методы на основе синтаксиса зависят от текстового порядка программы. Если программисты изменяют порядок операторов в скопированном коде, то скопированный код не будет найден.\n",
    "\n",
    "Тем не менее, порядок не может быть изменен произвольно без изменения смысла программы.\n",
    "Граф программных зависимостей представляет собой представление программы, которое представляет только зависимость управления и данных между операторами.\n",
    "\n",
    "![](https://www.researchgate.net/profile/Sergey-Troshin/publication/358740900/figure/fig1/AS:11431281080328895@1661254252291/Example-of-Data-Flow-Graph-from-GraphCodeBERT-Guo-et-al-2021_W640.jpg)\n",
    "\n",
    "Клоны могут быть идентифицированы как изоморфные подграфы в графе программных зависимостей.\n",
    "\n",
    "Задача является NP-сложной, используются приближённые алгоритмы.\n",
    "\n",
    "> Пример.\n",
    "> Изоморфизм графов\n",
    "> ![](https://static.javatpoint.com/tutorial/dms/images/graph-isomorphism-in-discrete-mathematics.png)"
   ]
  },
  {
   "cell_type": "markdown",
   "metadata": {},
   "source": [
    "## Сравнение векторов\n",
    "\n",
    "Происходит сравнение векторов в метрическом пространстве. Вектора строятся на основе различных метрик или предобученных моделей (BERT, RoBERTa, CodeBERT, GraphCodeBERT, ...).\n",
    "\n",
    "#### Contrastive learning\n",
    "\n",
    "Contrastive learning --- это подход в машинном обучении, для выявления похожих и непохожих объектов.\n",
    "Модель обучается строить эмбеддинги для объектов таким образом, что похожие объекты будут иметь близкие вектора, а разные объекты, соответственно, будут различаться.\n",
    "Поэтому решение о том, являются ли две программы клонами или нет, определяется расстоянием между двумя векторами.\n",
    "\n",
    "> Пример. [SimCLR](https://arxiv.org/abs/2002.05709)\n",
    ">\n",
    "> ![](./res/07_clones_sim_clr.png)"
   ]
  },
  {
   "cell_type": "markdown",
   "metadata": {},
   "source": [
    "## Сравнение на основе изображений\n",
    "\n",
    "[Ragkhitwetsagul et al - A picture is worth a thousand words Code clone detection based on image similarity 2018](https://ieeexplore.ieee.org/document/8327318)\n",
    "\n",
    "![scheme](./res/07_clone_detection_image_scheme.png)\n",
    "\n",
    "Подход:\n",
    "\n",
    "1. \n",
    "   - распарсить код и извлечь методы\n",
    "   - удалить комментарии\n",
    "   - красиво напечатать\n",
    "   - преобразовать в html с подсветкой синтаксиса\n",
    "2. \n",
    "   - конвертировать каждый метод в PNG-изображение\n",
    "   - прочить RGB-изображение\n",
    "3. \n",
    "   - преобразовать изображение в негативное изображение\n",
    "   - применить фильтры (гауссовый фильтр, например)\n",
    "4. \n",
    "   - сравнить два изображения. Можено использовать **The Earth Mover’s Distance (EMD)** --- метрику, которая рассматривает сравнение изображений как транспортную задачу, находя минимальную стоимость преобразования одного распределения в другое\n",
    "  \n",
    "![](./res/07_clone_detection_image_1.png)\n",
    "![](./res/07_clone_detection_image_2.png)\n",
    "![](./res/07_clone_detection_image_3.png)"
   ]
  },
  {
   "cell_type": "markdown",
   "metadata": {},
   "source": [
    "## Evaluation\n",
    "\n",
    "- [BigCloneBench](https://github.com/clonebench/BigCloneBench) --- включает более 8 миллионов клонов из 25000 Java-репозиториев\n",
    "- [BigCloneEval](https://github.com/jeffsvajlenko/BigCloneEval) --- фреймворк для тестирования разных методов по детекции клонов"
   ]
  },
  {
   "cell_type": "markdown",
   "metadata": {},
   "source": [
    "# 3. Упражнение\n",
    "\n",
    "Реализовать поиск клонов с помощью модели CodeBERT. Проверить на датасете BigCloneBench.\n",
    "\n",
    "См. задача 4"
   ]
  },
  {
   "cell_type": "markdown",
   "metadata": {},
   "source": [
    "# 4. Ссылки\n",
    "- Allamanis - The adverse effects of code duplication in machine learning models of code\n",
    "- Baker - On finding duplication and near-duplication in large software systems\n",
    "- Bogomolov et al - Sosed A tool for finding similar software projects\n",
    "- [Code code analysis](https://link.springer.com/book/10.1007/978-981-16-1927-4)\n",
    "- Ducasse et al - A language independent approach for detecting duplicated code\n",
    "- Gupta Gupta - Literature survey of clone detection techniques\n",
    "- Huang et al - Code clone detection based on event embedding and event dependency\n",
    "- Ivanov et al - AntiCopyPaster Extracting code duplicates as soon as they are introduced in the IDE\n",
    "- Khajezade et al - Evaluating few shot and contrastive learning methods for code clone detection\n",
    "- Kim et al - Revisiting binary code similarity analysis using interpretable feature engineering and lessons learned\n",
    "- Koschke - Survey of research on software clones\n",
    "- Lopes et al - DejaVu A map of code duplicates on GitHub\n",
    "- Nadim et al - Evaluating the performance of clone detection tools in detecting cloned co-change candidates\n",
    "- Ragkhitwetsagul - Code similarity and clone search in large-scale source code data\n",
    "- Ragkhitwetsagul et al - A picture is worth a thousand words Code clone detection based on image similarity\n",
    "- Rahman et al - Clone detection on large Scala codebases\n",
    "- Roy et al - Comparison and evaluation of code clone detection techniques and tools\n",
    "- Saini et al - Oreo Detection of clones in the twilight zone\n",
    "- Sheneamer Kalita - A survey of software clone detection techniques\n",
    "- [Svajlenko Roy - A survey on the evaluation of clone detection performance and benchmarking](https://arxiv.org/abs/2006.15682)\n",
    "- Svajlenko Roy - Efficiently measuring an accurate and generalized clone detection precision using clone clustering\n",
    "- White et al - Deep learning code fragments for code clone detection\n",
    "- Yahay Kim - Cross-languages source code clone detection using deep learning with InferCode\n",
    "- Zhang et al - Challenging machine learning-based clone detectors via semantic-preserving code transformations\n",
    "- Zhang et al - The development and prospect of code clone\n",
    "- Zubkov et al - Evaluation of contrastive learning with various code representations for code clone detection 2022"
   ]
  },
  {
   "cell_type": "code",
   "execution_count": null,
   "metadata": {},
   "outputs": [],
   "source": []
  }
 ],
 "metadata": {
  "kernelspec": {
   "display_name": "Python 3",
   "language": "python",
   "name": "python3"
  },
  "language_info": {
   "codemirror_mode": {
    "name": "ipython",
    "version": 3
   },
   "file_extension": ".py",
   "mimetype": "text/x-python",
   "name": "python",
   "nbconvert_exporter": "python",
   "pygments_lexer": "ipython3",
   "version": "3.7.4"
  }
 },
 "nbformat": 4,
 "nbformat_minor": 2
}

{
 "cells": [
  {
   "cell_type": "markdown",
   "metadata": {},
   "source": [
    "# 08. CLONE DETECTION"
   ]
  },
  {
   "cell_type": "markdown",
   "metadata": {},
   "source": [
    "1. Introduction\n",
    "2. Approaches\n",
    "3. LLMs\n",
    "4. Exercise\n",
    "5. References"
   ]
  },
  {
   "cell_type": "markdown",
   "metadata": {},
   "source": [
    "# 1. Введение"
   ]
  },
  {
   "cell_type": "markdown",
   "metadata": {},
   "source": [
    "#### DEFINITION\n",
    "\n",
    "Клоны — это фрагменты кода, реализующие одну и ту же функциональность.\n",
    "\n",
    "Связь синтаксиса и семантики:\n",
    "- identical syntax => identical semantics\n",
    "- regular code: different syntax, different semantics\n",
    "- anti-patterns, bugs: similar syntax & different semantics\n",
    "- clones: identical semantics\n",
    "\n",
    "Часто возникают в результате \"copy & paste\"."
   ]
  },
  {
   "cell_type": "markdown",
   "metadata": {},
   "source": [
    "#### TYPES\n",
    "\n",
    "**Type-1 (Exact clones)**\n",
    "\n",
    "Идентичные фрагменты кода, за исключением различий в пробелах, комментариях и вёрстке.\n",
    "\n",
    "**Type-2 (Renamed/Parameterized)**\n",
    "\n",
    "Идентичные фрагменты кода, за исключением различий в именах идентификаторов и литеральных значениях, в дополнение к различиям клонов типа 1.\n",
    "\n",
    "**Type-3 (Near miss clones/Gapped clones)**\n",
    "\n",
    "Синтаксически похожие фрагменты кода, которые содержат добавленные, измененные и/или удаленные операторы кода, в дополнение к различиям клонов типа 1 и типа 2.\n",
    "\n",
    "**Type-4 (Semantic clones)**\n",
    "\n",
    "Синтаксически разные фрагменты кода, но семантически схожие с точки зрения функционала.\n",
    "\n",
    "\n",
    "> Примеры:\n",
    "> ![types](./res/08_clone_types.png)\n",
    ">\n",
    "> ![types](./res/08_equivalent_transformations.png)"
   ]
  },
  {
   "cell_type": "markdown",
   "metadata": {},
   "source": [
    "#### ЗАЧЕМ УМЕТЬ НАХОДИТЬ КЛОНЫ\n",
    "\n",
    "Несмотря на то, что клонирование может быть полезным во многих отношениях, оно также может быть вредным при обслуживании и развитии программного обеспечения.\n",
    "\n",
    "Например, если в каком-то фрагменте кода обнаружена ошибка, то все клоны должны быть проверены на наличие такой же ошибки. Дублированные фрагменты также могут значительно увеличить объем работы при улучшении или адаптации кода.\n",
    "\n",
    "\n",
    "Кроме того, дедупликация (исключение клонов) --- стандартный процесс при подготовке датасетов."
   ]
  },
  {
   "cell_type": "markdown",
   "metadata": {},
   "source": [
    "#### СКОЛЬКО ВСЕГО КЛОНОВ\n",
    "\n",
    "Повторное использование фрагментов кода путем копирования и вставки с незначительной адаптацией или без нее — обычное дело при разработке программного обеспечения.\n",
    "\n",
    "В результате программные системы часто содержат клоны. Исследования показывают, что значительная часть (от 7% до 23%) кода в типичной программной системе была клонирована.\n",
    "\n",
    "- Linux: 22.3% ([Sheneamer Kalita, 2016](https://www.ijcaonline.org/archives/volume137/number10/24308-2016908896))\n",
    "- JDK: 29% ([Kamiya et al, 2002](https://www.cs.drexel.edu/~spiros/teaching/CS675/papers/clone-kamiya.pdf))\n",
    "\n",
    "70% кода на GitHub состоит из клонов ранее созданных файлов."
   ]
  },
  {
   "cell_type": "markdown",
   "metadata": {},
   "source": [
    "#### КАРТА ДУБЛИРОВАНИЯ КОДА ([Lopes et al, 2017](http://janvitek.org/pubs/oopsla17b.pdf)):\n",
    "\n",
    "- ось X: количество файлов в проекте\n",
    "- ось Y: количество коммитов на проект\n",
    "\n",
    "Число на каждом квадрате --- это процент дублированных файлов для всех проектов этого квадрата.\n",
    "\n",
    "![dejavu](./res/08_dejavu_tiles_1.png)\n",
    "![dejavu](./res/08_dejavu_tiles_2.png)"
   ]
  },
  {
   "cell_type": "markdown",
   "metadata": {},
   "source": [
    "#### DATASETS\n",
    "\n",
    "- [BigCloneBench](https://github.com/clonebench/BigCloneBench) --- включает более 8 миллионов клонов из 25000 Java-репозиториев\n",
    "- [BigCloneEval](https://github.com/jeffsvajlenko/BigCloneEval) --- фреймворк для тестирования разных методов по детекции клонов"
   ]
  },
  {
   "cell_type": "markdown",
   "metadata": {},
   "source": [
    "# 2. Approaches"
   ]
  },
  {
   "cell_type": "markdown",
   "metadata": {},
   "source": [
    "#### TEXT-BASED\n",
    "\n",
    "Например, на основе сравнения строк.\n",
    "\n",
    "1. нормализуем код\n",
    "2. для каждой строки вычисляем значение некоторой хэш-функции\n",
    "3. визуализируем в виде матрицы: если две строки имеют одинаковое значение хэш-функции, то пишем 1, иначе 0\n",
    "4. выявляем паттерны (например, диагональные последовательности) из единиц, они соответствуют повторяющемуся коду\n",
    "\n",
    "> Пример:\n",
    ">\n",
    "> ([Ducasse et al, 1999](https://ieeexplore.ieee.org/document/792593))\n",
    "> \n",
    "> ![](./res/08_clones_text.png)"
   ]
  },
  {
   "cell_type": "markdown",
   "metadata": {},
   "source": [
    "#### TOKEN-BASED\n",
    "\n",
    "Вместо сравнения символов используется сравнение токенов.\n",
    "\n",
    "В случае подходов на основе токенов каждая строка исходного кода делится на токены в соответствии с лексическими правилами интересующего языка программирования. Токены вместе образуют последовательность токенов, используемую для сравнения. Все пробелы (включая разрывы строк и табуляции) и комментарии между токенами удаляются из последовательностей токенов.\n",
    "\n",
    "Например, если фрагменты кода отличаются только названиями переменных, то разные названия будут соответствовать одному и тому же токены и, поэтому, не помешают при сравнении.\n",
    "\n",
    "Например:\n",
    "- [CCFinder](https://www.cs.drexel.edu/~spiros/teaching/CS675/papers/clone-kamiya.pdf)\n",
    "- [CCFinderX](https://github.com/gpoo/ccfinderx)"
   ]
  },
  {
   "cell_type": "markdown",
   "metadata": {},
   "source": [
    "#### AST-BASED\n",
    "\n",
    "Сравнение происходит на основе абстрактных синтаксических деревьев.\n",
    "\n",
    "Например, так:\n",
    "1. строится абстрактное синтаксическое дерево\n",
    "2. выделяются поддеревья\n",
    "3. вычисляются значения некоторой хэш-функции для этих поддеревьев\n",
    "4. если два поддерева получили одинаково значение, то происходит дополнительное сравнение двух деревьев\n",
    "\n",
    "![](https://leanovate.github.io/bedcon/talk/abstract_syntax_tree.png)"
   ]
  },
  {
   "cell_type": "markdown",
   "metadata": {},
   "source": [
    "#### DATA FLOW BASED\n",
    "\n",
    "Методы нахождения клонов на основе токенов и методы на основе синтаксиса зависят от порядка в котором написаны инструкции программы.\n",
    "Если разработчики меняют в скопированном коде инструкции местами, то скопированный код не будет найден в качестве клона.\n",
    "\n",
    "Тем не менее, порядок не может быть изменен произвольно без изменения смысла программы.\n",
    "Граф программных зависимостей представляет собой представление программы, которое представляет только зависимость управления и данных между операторами.\n",
    "\n",
    "![](https://www.researchgate.net/profile/Sergey-Troshin/publication/358740900/figure/fig1/AS:11431281080328895@1661254252291/Example-of-Data-Flow-Graph-from-GraphCodeBERT-Guo-et-al-2021_W640.jpg)\n",
    "\n",
    "Клоны могут быть идентифицированы как изоморфные подграфы в графе программных зависимостей.\n",
    "\n",
    "Задача является NP-сложной, используются приближённые алгоритмы.\n",
    "\n",
    "> Пример изоморфных графов\n",
    "> \n",
    "> ![](https://static.javatpoint.com/tutorial/dms/images/graph-isomorphism-in-discrete-mathematics.png)"
   ]
  },
  {
   "cell_type": "markdown",
   "metadata": {},
   "source": [
    "#### IMAGE-BASED\n",
    "\n",
    "[Ragkhitwetsagul et al - A picture is worth a thousand words Code clone detection based on image similarity 2018](https://ieeexplore.ieee.org/document/8327318)\n",
    "\n",
    "![scheme](./res/08_clone_detection_image_scheme.png)\n",
    "\n",
    "Подход:\n",
    "\n",
    "1. \n",
    "   - распарсить код и извлечь методы\n",
    "   - удалить комментарии\n",
    "   - красиво напечатать\n",
    "   - преобразовать в html с подсветкой синтаксиса\n",
    "2. \n",
    "   - конвертировать каждый метод в PNG-изображение\n",
    "   - получить RGB-изображение\n",
    "3. \n",
    "   - преобразовать изображение в негативное изображение\n",
    "   - применить фильтры (гауссовый фильтр, например)\n",
    "4. \n",
    "   - сравнить два изображения. Можно использовать **The Earth Mover’s Distance (EMD)** --- метрику, которая рассматривает сравнение изображений как транспортную задачу (задача оптимального транспорта), находя минимальную стоимость преобразования одного распределения в другое\n",
    "  \n",
    "![](./res/08_clone_detection_image_1.png)\n",
    "![](./res/08_clone_detection_image_2.png)\n",
    "![](./res/08_clone_detection_image_3.png)"
   ]
  },
  {
   "cell_type": "markdown",
   "metadata": {},
   "source": [
    "#### EMBEDDING-BASED\n",
    "\n",
    "Происходит сравнение векторов в метрическом пространстве. Вектора строятся на основе различных метрик или предобученных моделей (BERT, RoBERTa, CodeBERT, GraphCodeBERT, ...)."
   ]
  },
  {
   "cell_type": "markdown",
   "metadata": {},
   "source": [
    "**Contrastive learning** --- это подход в машинном обучении, для выявления похожих и непохожих объектов.\n",
    "Модель обучается строить эмбеддинги для объектов таким образом, что похожие объекты будут иметь близкие вектора, а разные объекты, соответственно, будут различаться.\n",
    "Поэтому решение о том, являются ли две программы клонами или нет, принимается на основе расстояний между двумя векторами.\n",
    "\n",
    "![](./res/08_contrastive_learning_pipeline.png)\n",
    "\n",
    "- $o$, $o'$ --- two different objects\n",
    "- $f$ --- an encoder model\n",
    "- $q$, $k$ --- embeddings of the obejcts\n",
    "- $g$ --- a special projector model which is specific for algorithm (in a simple case, $g$ can be an identical function, i.e., just pass $q$ and $k$ onwards\n",
    "- $q'$, $k'$ --- transformed vectors for the loss function $L$\n",
    "\n",
    "**Подробнее**\n",
    "- [Evaluation of Contrastive Learning with Various Code Representations for Code Clone Detection](https://arxiv.org/abs/2206.08726)"
   ]
  },
  {
   "cell_type": "markdown",
   "metadata": {},
   "source": [
    "# 3. LLMs\n",
    "\n",
    "[Towards Understanding the Capability of Large Language Models on Code Clone Detection: A Survey](https://arxiv.org/abs/2308.01191)\n",
    "\n",
    "Clones:\n",
    "\n",
    "Additional sub-categories for Type-3 and Type-4 clones based on their syntactical similarity scores:\n",
    "- Very Strongly Type-3 (VST3) clones, with similarity scores in the range of [0.9, 1.0)\n",
    "- Strongly Type-3 (ST3) clones, with similarity scores between [0.7, 0.9)\n",
    "- Moderately Type-3 (MT3) clones, with similarity scores between [0.5, 0.7)\n",
    "- Weakly Type-3/Type-4 (WT3/T4) clones, with similarity scores between [0.0, 0.5)\n",
    "\n",
    "Instructions:\n",
    "\n",
    "![](res/08_prompts.png)"
   ]
  },
  {
   "cell_type": "markdown",
   "metadata": {},
   "source": [
    "#### RQ1: Can LLMs detect code clones with a simple prompt?\n",
    "\n",
    "![](res/08_llms_vs_non-llms.png)\n",
    "\n",
    "\n",
    "> Using open-source LLMs for clone detection yields superior results in identifying Type-3 and Type-4 clone pairs when relying solely on a simple prompt. However, it does exhibit slightly poorer performance when detecting Type-1 and Type-2 clone pairs compared to existing tools. Notably, GPT-3.5-Turbo and GPT-4 stand out with the highest recall and accuracy rates across nearly all clone types."
   ]
  },
  {
   "cell_type": "markdown",
   "metadata": {},
   "source": [
    "#### RQ2: How do LLMs perform by using one-step chain-of-thought prompts?\n",
    "\n",
    "* In one-step prompt engineering, the model is tasked with detecting code clones from various perspectives (i.e. clone type, similarity, and analogous lines of code pair).\n",
    "* In multi-step prompt engineering, the model initially analyzes each function from multiple perspectives, subsequently integrating all the intermediate reasonings. This approach enables the model to detect code clones with prior knowledge, rather than merely following human instructions to provide a binary \"yes\" or \"no\" response.\n",
    "\n",
    "\n",
    "![](res/08_clone_type_reasoning.png)\n",
    "\n",
    "![](res/08_similar_line_reasoning.png)\n",
    "\n",
    "> The clone detection performance of GPT-3.5-Turbo and GPT-4 can be improved by requiring models to provide clone type, similarity, reasoning, and similarity lines. Using one-step chain-of-thought prompts allows the models to analyze code pairs and intermediate reasoning, leading to better clone detection."
   ]
  },
  {
   "cell_type": "markdown",
   "metadata": {},
   "source": [
    "#### RQ3: Can LLMs perform better by using multi-step chain-of-thought prompts?\n",
    "\n",
    "![](res/08_separate_explanation_codes.png)\n",
    "\n",
    "> The clone detection performance of GPT-3.5-Turbo and GPT-4 can be improved by Multi-Step Chain-of-Thought prompts, including separating explanations and codes. Different from RQ2, separating explanations provide models of independent intermediate reasoning of code, and separating codes provide models of independent explanation of code, which avoid the influences between generated information."
   ]
  },
  {
   "cell_type": "markdown",
   "metadata": {},
   "source": [
    "#### RQ4: How do LLMs perform using code embedding?\n",
    "\n",
    "This question focuses on whether LLMs can provide superior results compared to traditional pre-trained language models through code compression. \n",
    "\n",
    "![](res/08_similarity_distribution.png)\n",
    "\n",
    "> Text-embedding-ada-002 is more effective than specialized CodeBERT models in identifying cloned code, exhibiting superior overall performance. The advantage of Text-embedding-ada-002 lies in its capacity to generate a wider range of similarity scores, leading to better discrimination between true and false positives."
   ]
  },
  {
   "cell_type": "markdown",
   "metadata": {},
   "source": [
    "#### RQ5: How does the performance of LLMs in code clone detection vary across different programming languages?\n",
    "\n",
    "![](res/08_different_languages.png)\n",
    "\n",
    "> The performance of LLMs in code clone detection varies across different programming languages, with a trend of superior results in Python, likely due to its inherent simplicity and prevalence in training data"
   ]
  },
  {
   "cell_type": "markdown",
   "metadata": {},
   "source": [
    "# 4. Exercise\n",
    "\n",
    "Сравнить работу предобученных моделей (например, CodeBERT, GraphCodeBERT) и LLM в задаче детекции клонов. Сделать выводы."
   ]
  },
  {
   "cell_type": "markdown",
   "metadata": {},
   "source": [
    "# 5. References\n",
    "\n",
    "- Allamanis - The adverse effects of code duplication in machine learning models of code\n",
    "- Baker - On finding duplication and near-duplication in large software systems\n",
    "- Bogomolov et al - Sosed A tool for finding similar software projects\n",
    "- [Code code analysis](https://link.springer.com/book/10.1007/978-981-16-1927-4)\n",
    "- Ducasse et al - A language independent approach for detecting duplicated code\n",
    "- Gupta Gupta - Literature survey of clone detection techniques\n",
    "- Huang et al - Code clone detection based on event embedding and event dependency\n",
    "- Ivanov et al - AntiCopyPaster Extracting code duplicates as soon as they are introduced in the IDE\n",
    "- Khajezade et al - Evaluating few shot and contrastive learning methods for code clone detection\n",
    "- Kim et al - Revisiting binary code similarity analysis using interpretable feature engineering and lessons learned\n",
    "- Koschke - Survey of research on software clones\n",
    "- Lopes et al - DejaVu A map of code duplicates on GitHub\n",
    "- Nadim et al - Evaluating the performance of clone detection tools in detecting cloned co-change candidates\n",
    "- Ragkhitwetsagul - Code similarity and clone search in large-scale source code data\n",
    "- Ragkhitwetsagul et al - A picture is worth a thousand words Code clone detection based on image similarity\n",
    "- Rahman et al - Clone detection on large Scala codebases\n",
    "- Roy et al - Comparison and evaluation of code clone detection techniques and tools\n",
    "- Saini et al - Oreo Detection of clones in the twilight zone\n",
    "- Sheneamer Kalita - A survey of software clone detection techniques\n",
    "- [Svajlenko Roy - A survey on the evaluation of clone detection performance and benchmarking](https://arxiv.org/abs/2006.15682)\n",
    "- Svajlenko Roy - Efficiently measuring an accurate and generalized clone detection precision using clone clustering\n",
    "- White et al - Deep learning code fragments for code clone detection\n",
    "- Yahay Kim - Cross-languages source code clone detection using deep learning with InferCode\n",
    "- Zhang et al - Challenging machine learning-based clone detectors via semantic-preserving code transformations\n",
    "- Zhang et al - The development and prospect of code clone\n",
    "- Zubkov et al - Evaluation of contrastive learning with various code representations for code clone detection 2022"
   ]
  },
  {
   "cell_type": "code",
   "execution_count": null,
   "metadata": {},
   "outputs": [],
   "source": []
  }
 ],
 "metadata": {
  "kernelspec": {
   "display_name": "Python 3 (ipykernel)",
   "language": "python",
   "name": "python3"
  },
  "language_info": {
   "codemirror_mode": {
    "name": "ipython",
    "version": 3
   },
   "file_extension": ".py",
   "mimetype": "text/x-python",
   "name": "python",
   "nbconvert_exporter": "python",
   "pygments_lexer": "ipython3",
   "version": "3.10.13"
  }
 },
 "nbformat": 4,
 "nbformat_minor": 4
}

{
 "cells": [
  {
   "cell_type": "markdown",
   "id": "17ebb125-dc67-4ab4-8f71-d2e44f0eaa47",
   "metadata": {},
   "source": [
    "# 1. CODE\n",
    "\n",
    "1. What is the code?\n",
    "2. AST\n",
    "3. DFG\n",
    "4. CFG\n",
    "5. Code metrics\n",
    "6. Code analysis\n",
    "7. Exercise\n",
    "8. References"
   ]
  },
  {
   "cell_type": "markdown",
   "id": "4f4905aa-6f83-442e-b1e2-bee97ce2a6f8",
   "metadata": {},
   "source": [
    "# 1. What is the code?\n",
    "\n",
    "#### IEEE24765 Systems and software engineering Vocabulary\n",
    "\n",
    "- *Software* --- all or part of the programs, procedures, rules, and associated documentation of an information processing system.\n",
    "- *Computer program* --- a combination of computer instructions and data definitions that enable computer hardware to perform computational or control functions.\n",
    "- *Programming language* --- a language used to express computer programs\n",
    "- *Source code* --- computer instructions and data definitions expressed in a form suitable for input to an assembler, compiler, or other translator.\n",
    "\n",
    "#### Is the code text?\n",
    "\n",
    "The naturalness of software (e.g., [Hindle et al - On the naturalness of software 2016](https://dl.acm.org/doi/abs/10.1145/2902362)):\n",
    ">\n",
    "> *most software is also natural*, in the sense that it is created by humans at work, with all the attendant constraints and limitations---and thus, like natural language, it is also likely to be repetitive and predictable\n",
    "\n",
    "- code can be usefully modeled by statistical language models\n",
    "- such models can be leveraged to support software engineers"
   ]
  },
  {
   "cell_type": "markdown",
   "id": "6f5344dd-ecaa-4d68-a683-6485fac05ac5",
   "metadata": {},
   "source": [
    "# 2. Abstract Syntax Tree (AST)"
   ]
  },
  {
   "cell_type": "markdown",
   "id": "f97b6351-35af-49f5-946a-23e162223f45",
   "metadata": {},
   "source": [
    "*Abstract syntax tree* is a finite labeled oriented tree in which the internal vertices correspond to programming language operators, and the leaves correspond to operands (variables and constants).\n",
    "\n",
    "#### Example\n",
    "\n",
    "Euclid's algorithm:\n",
    "\n",
    "```\n",
    "while b ≠ 0\n",
    "    if a > b\n",
    "        a := a − b\n",
    "    else\n",
    "        b := b − a\n",
    "return a\n",
    " ```\n",
    "\n",
    "AST:\n",
    "\n",
    "![AST](https://upload.wikimedia.org/wikipedia/commons/thumb/c/c7/Abstract_syntax_tree_for_Euclidean_algorithm.svg/425px-Abstract_syntax_tree_for_Euclidean_algorithm.svg.png)"
   ]
  },
  {
   "cell_type": "markdown",
   "id": "752379b8-02cb-49f3-a2fd-529eda3f0b60",
   "metadata": {},
   "source": [
    "#### ast package\n",
    "\n",
    "https://docs.python.org/3/library/ast.html\n",
    "\n",
    "![ast](./res/01_ast.png)"
   ]
  },
  {
   "cell_type": "raw",
   "id": "7ee17431-fb1c-46c3-8951-e4cfa9bec282",
   "metadata": {},
   "source": [
    "!pip install astpretty"
   ]
  },
  {
   "cell_type": "code",
   "execution_count": 1,
   "id": "afca5910-b50f-42e1-9516-c154b96c151c",
   "metadata": {},
   "outputs": [
    {
     "name": "stdout",
     "output_type": "stream",
     "text": [
      "Module(\n",
      "    body=[\n",
      "        FunctionDef(\n",
      "            name='f',\n",
      "            args=arguments(\n",
      "                posonlyargs=[],\n",
      "                args=[\n",
      "                    arg(arg='a', annotation=None, type_comment=None),\n",
      "                    arg(arg='b', annotation=None, type_comment=None),\n",
      "                ],\n",
      "                vararg=None,\n",
      "                kwonlyargs=[],\n",
      "                kw_defaults=[],\n",
      "                kwarg=None,\n",
      "                defaults=[],\n",
      "            ),\n",
      "            body=[\n",
      "                While(\n",
      "                    test=Compare(\n",
      "                        left=Name(id='b', ctx=Load()),\n",
      "                        ops=[NotEq()],\n",
      "                        comparators=[Constant(value=0, kind=None)],\n",
      "                    ),\n",
      "                    body=[\n",
      "                        If(\n",
      "                            test=Compare(\n",
      "                                left=Name(id='a', ctx=Load()),\n",
      "                                ops=[Gt()],\n",
      "                                comparators=[Name(id='b', ctx=Load())],\n",
      "                            ),\n",
      "                            body=[\n",
      "                                Assign(\n",
      "                                    targets=[Name(id='a', ctx=Store())],\n",
      "                                    value=BinOp(\n",
      "                                        left=Name(id='a', ctx=Load()),\n",
      "                                        op=Sub(),\n",
      "                                        right=Name(id='b', ctx=Load()),\n",
      "                                    ),\n",
      "                                    type_comment=None,\n",
      "                                ),\n",
      "                            ],\n",
      "                            orelse=[\n",
      "                                Assign(\n",
      "                                    targets=[Name(id='b', ctx=Store())],\n",
      "                                    value=BinOp(\n",
      "                                        left=Name(id='b', ctx=Load()),\n",
      "                                        op=Sub(),\n",
      "                                        right=Name(id='a', ctx=Load()),\n",
      "                                    ),\n",
      "                                    type_comment=None,\n",
      "                                ),\n",
      "                            ],\n",
      "                        ),\n",
      "                    ],\n",
      "                    orelse=[],\n",
      "                ),\n",
      "                Return(\n",
      "                    value=Name(id='a', ctx=Load()),\n",
      "                ),\n",
      "            ],\n",
      "            decorator_list=[],\n",
      "            returns=None,\n",
      "            type_comment=None,\n",
      "        ),\n",
      "    ],\n",
      "    type_ignores=[],\n",
      ")\n"
     ]
    }
   ],
   "source": [
    "import ast\n",
    "import astpretty\n",
    "from pprint import pprint\n",
    "\n",
    "source = '''\\\n",
    "def f(a, b):\n",
    "    while b != 0:\n",
    "        if a > b:\n",
    "            a = a - b\n",
    "        else:\n",
    "            b = b - a\n",
    "    return a'''\n",
    "tree = ast.parse(source)\n",
    "\n",
    "astpretty.pprint(tree, show_offsets=False)"
   ]
  },
  {
   "cell_type": "markdown",
   "id": "4dc0cbb9-3060-41fc-9b64-820fc117ad12",
   "metadata": {},
   "source": [
    "#### tree-sitter\n",
    "\n",
    "- https://tree-sitter.github.io/tree-sitter\n",
    "- https://github.com/tree-sitter/py-tree-sitter\n",
    "\n",
    "![tree-sitter](./res/01_tree-sitter.png)"
   ]
  },
  {
   "cell_type": "raw",
   "id": "f98d6ca0-eff8-419b-93c4-3a520c4e4dca",
   "metadata": {},
   "source": [
    "!pip install tree-sitter"
   ]
  },
  {
   "cell_type": "code",
   "execution_count": 2,
   "id": "25a1e702-d8f8-4c37-a332-a8cf6716b46e",
   "metadata": {},
   "outputs": [],
   "source": [
    "from pathlib import Path\n",
    "from tree_sitter import Language, Parser\n",
    "\n",
    "tree_sitter_lib_path = Path('/mnt/se_data/code/tree_sitter/tree_sitter_ccpcsgohajajsphpysc.so')\n",
    "assert tree_sitter_lib_path.is_file()\n",
    "\n",
    "PY_LANGUAGE = Language(tree_sitter_lib_path, 'python')\n",
    "parser = Parser()\n",
    "parser.set_language(PY_LANGUAGE)"
   ]
  },
  {
   "cell_type": "code",
   "execution_count": 3,
   "id": "7c9bbc92-aedf-43a8-a32d-20ccaa9f2110",
   "metadata": {},
   "outputs": [],
   "source": [
    "tree = parser.parse(bytes(source, 'utf8'))\n",
    "r = tree.root_node"
   ]
  },
  {
   "cell_type": "code",
   "execution_count": 4,
   "id": "81c87f42-5485-48b3-9567-e11287233e8a",
   "metadata": {},
   "outputs": [
    {
     "data": {
      "text/plain": [
       "'(module (function_definition name: (identifier) parameters: (parameters (identifier) (identifier)) body: (block (while_statement condition: (comparison_operator (identifier) (integer)) body: (block (if_statement condition: (comparison_operator (identifier) (identifier)) consequence: (block (expression_statement (assignment left: (identifier) right: (binary_operator left: (identifier) right: (identifier))))) alternative: (else_clause body: (block (expression_statement (assignment left: (identifier) right: (binary_operator left: (identifier) right: (identifier))))))))) (return_statement (identifier)))))'"
      ]
     },
     "execution_count": 4,
     "metadata": {},
     "output_type": "execute_result"
    }
   ],
   "source": [
    "r.sexp()"
   ]
  },
  {
   "cell_type": "code",
   "execution_count": 5,
   "id": "a3ee796e-23ed-47b8-9fc1-b47ca6856880",
   "metadata": {},
   "outputs": [
    {
     "data": {
      "text/plain": [
       "['__class__',\n",
       " '__delattr__',\n",
       " '__dir__',\n",
       " '__doc__',\n",
       " '__eq__',\n",
       " '__format__',\n",
       " '__ge__',\n",
       " '__getattribute__',\n",
       " '__gt__',\n",
       " '__hash__',\n",
       " '__init__',\n",
       " '__init_subclass__',\n",
       " '__le__',\n",
       " '__lt__',\n",
       " '__module__',\n",
       " '__ne__',\n",
       " '__new__',\n",
       " '__reduce__',\n",
       " '__reduce_ex__',\n",
       " '__repr__',\n",
       " '__setattr__',\n",
       " '__sizeof__',\n",
       " '__str__',\n",
       " '__subclasshook__',\n",
       " 'byte_range',\n",
       " 'child',\n",
       " 'child_by_field_id',\n",
       " 'child_by_field_name',\n",
       " 'child_count',\n",
       " 'children',\n",
       " 'children_by_field_id',\n",
       " 'children_by_field_name',\n",
       " 'descendant_count',\n",
       " 'descendant_for_byte_range',\n",
       " 'descendant_for_point_range',\n",
       " 'edit',\n",
       " 'end_byte',\n",
       " 'end_point',\n",
       " 'field_name_for_child',\n",
       " 'grammar_id',\n",
       " 'grammar_name',\n",
       " 'has_changes',\n",
       " 'has_error',\n",
       " 'id',\n",
       " 'is_error',\n",
       " 'is_extra',\n",
       " 'is_missing',\n",
       " 'is_named',\n",
       " 'kind_id',\n",
       " 'named_child',\n",
       " 'named_child_count',\n",
       " 'named_children',\n",
       " 'named_descendant_for_byte_range',\n",
       " 'named_descendant_for_point_range',\n",
       " 'next_named_sibling',\n",
       " 'next_parse_state',\n",
       " 'next_sibling',\n",
       " 'parent',\n",
       " 'parse_state',\n",
       " 'prev_named_sibling',\n",
       " 'prev_sibling',\n",
       " 'range',\n",
       " 'sexp',\n",
       " 'start_byte',\n",
       " 'start_point',\n",
       " 'text',\n",
       " 'type',\n",
       " 'walk']"
      ]
     },
     "execution_count": 5,
     "metadata": {},
     "output_type": "execute_result"
    }
   ],
   "source": [
    "dir(r)"
   ]
  },
  {
   "cell_type": "code",
   "execution_count": 6,
   "id": "7894c0e4-2ca3-4105-9080-afb992cf9f30",
   "metadata": {},
   "outputs": [
    {
     "name": "stdout",
     "output_type": "stream",
     "text": [
      "def f(a, b):\n",
      "    while b != 0:\n",
      "        if a > b:\n",
      "            a = a - b\n",
      "        else:\n",
      "            b = b - a\n",
      "    return a\n"
     ]
    }
   ],
   "source": [
    "text = r.text.decode('UTF-8')\n",
    "print(text)\n",
    "\n",
    "assert text == source"
   ]
  },
  {
   "cell_type": "code",
   "execution_count": 7,
   "id": "58b2e1ab-c31d-4d82-8791-254dd4fd6eea",
   "metadata": {},
   "outputs": [
    {
     "data": {
      "text/plain": [
       "[<Node type=function_definition, start_point=(0, 0), end_point=(6, 12)>]"
      ]
     },
     "execution_count": 7,
     "metadata": {},
     "output_type": "execute_result"
    }
   ],
   "source": [
    "r.children"
   ]
  },
  {
   "cell_type": "code",
   "execution_count": 8,
   "id": "50eeb324-0578-4ad3-8141-c163dd0470b1",
   "metadata": {},
   "outputs": [
    {
     "data": {
      "text/plain": [
       "[<Node type=\"def\", start_point=(0, 0), end_point=(0, 3)>,\n",
       " <Node type=identifier, start_point=(0, 4), end_point=(0, 5)>,\n",
       " <Node type=parameters, start_point=(0, 5), end_point=(0, 11)>,\n",
       " <Node type=\":\", start_point=(0, 11), end_point=(0, 12)>,\n",
       " <Node type=block, start_point=(1, 4), end_point=(6, 12)>]"
      ]
     },
     "execution_count": 8,
     "metadata": {},
     "output_type": "execute_result"
    }
   ],
   "source": [
    "r.children[0].children"
   ]
  },
  {
   "cell_type": "code",
   "execution_count": 9,
   "id": "fe7d3cb7-6667-4e68-b16e-4e2c9fb77bfb",
   "metadata": {},
   "outputs": [
    {
     "name": "stdout",
     "output_type": "stream",
     "text": [
      "while b != 0:\n",
      "        if a > b:\n",
      "            a = a - b\n",
      "        else:\n",
      "            b = b - a\n"
     ]
    }
   ],
   "source": [
    "print(r.children[0].children[4].children[0].text.decode('UTF-8'))"
   ]
  },
  {
   "cell_type": "code",
   "execution_count": 10,
   "id": "7e7ce93f-a5e4-47a5-b611-fd8c6ea7e129",
   "metadata": {},
   "outputs": [
    {
     "name": "stdout",
     "output_type": "stream",
     "text": [
      "[(<Node type=identifier, start_point=(0, 4), end_point=(0, 5)>, 'function.def')]\n"
     ]
    }
   ],
   "source": [
    "# Pattern-matching: https://github.com/tree-sitter/py-tree-sitter#pattern-matching\n",
    "\n",
    "query = PY_LANGUAGE.query(\n",
    "    \"\"\"\n",
    "(function_definition\n",
    "  name: (identifier) @function.def)\n",
    "\n",
    "(call\n",
    "  function: (identifier) @function.call)\n",
    "\"\"\"\n",
    ")\n",
    "\n",
    "captures = query.captures(r)\n",
    "print(captures)"
   ]
  },
  {
   "cell_type": "markdown",
   "id": "a16100e7-b9b2-45ac-ba23-1223cd1240b7",
   "metadata": {},
   "source": [
    "# 3. Data Flow Graph (DFG)\n",
    "\n",
    "*Data flow graph* is a graph which represents a data dependancies between a number of operations.\n",
    "\n",
    "#### Example\n",
    "\n",
    "Finding the root of a quadratic equation (http://bears.ece.ucsb.edu/research-info/DP/dfg.html):\n",
    "```\n",
    "quad( a, b, c)\n",
    "t1 = a*c;\n",
    "t2 = 4*t1;\n",
    "t3 = b*b;\n",
    "t4 = t3 - t2;\n",
    "t5 = sqrt( t4);\n",
    "t6 = -b;\n",
    "t7 = t6 - t5;\n",
    "t8 = t7 + t5;\n",
    "t9 = 2*a;\n",
    "r1 = t7/t9;\n",
    "r2 = t8/t9;)\n",
    "```\n",
    "\n",
    "DFG:\n",
    "\n",
    "![DFG](http://bears.ece.ucsb.edu/research-info/DP/dfg.figure.id.1.gif)"
   ]
  },
  {
   "cell_type": "markdown",
   "id": "90ea0038-1fa2-4fa0-a9d7-4cd2ff9bab6e",
   "metadata": {},
   "source": [
    "# 4. Control Flow Graph (CFG)\n",
    "\n",
    "*Control flow graph* is the graphical representation of control flow or computation during the execution of programs or applications.\n",
    "\n",
    "#### Example\n",
    "\n",
    "https://en.wikipedia.org/wiki/Control-flow_graph\n",
    "\n",
    "![](./res/01_cfg_ab.png)\n",
    "\n",
    "- (a) an if-then-else\n",
    "- (b) a while loop\n",
    "\n",
    "![](./res/01_cfg_cd.png)\n",
    "\n",
    "- (c) a natural loop with two exits, e.g. while with an if...break in the middle\n",
    "- (d) a loop with two entry points, e.g. goto into a while or for loop"
   ]
  },
  {
   "cell_type": "markdown",
   "id": "f0ef19fe-107e-46f8-99bf-a0c51921bf5d",
   "metadata": {},
   "source": [
    "#### python-graphs\n",
    "\n",
    "- https://github.com/google-research/python-graphs\n",
    "- https://pypi.org/project/python-graphs/\n",
    "- https://github.com/google-research/python-graphs/blob/main/examples/control_flow_example.py"
   ]
  },
  {
   "cell_type": "code",
   "execution_count": 11,
   "id": "083d5ee3-a3ac-4528-9da5-2bf416747bbf",
   "metadata": {},
   "outputs": [
    {
     "name": "stdout",
     "output_type": "stream",
     "text": [
      "Reading package lists... Done\n",
      "Building dependency tree... Done\n",
      "Reading state information... Done\n",
      "graphviz is already the newest version (2.42.2-6).\n",
      "libgraphviz-dev is already the newest version (2.42.2-6).\n",
      "0 upgraded, 0 newly installed, 0 to remove and 96 not upgraded.\n",
      "Requirement already satisfied: pygraphviz in /usr/local/lib/python3.10/site-packages (1.12)\n",
      "Requirement already satisfied: python-graphs in /usr/local/lib/python3.10/site-packages (1.2.3)\n",
      "Requirement already satisfied: six in /usr/local/lib/python3.10/site-packages (from python-graphs) (1.16.0)\n",
      "Requirement already satisfied: absl-py in /usr/local/lib/python3.10/site-packages (from python-graphs) (2.1.0)\n",
      "Requirement already satisfied: gast in /usr/local/lib/python3.10/site-packages (from python-graphs) (0.5.4)\n",
      "Requirement already satisfied: astunparse in /usr/local/lib/python3.10/site-packages (from python-graphs) (1.6.3)\n",
      "Requirement already satisfied: networkx in /usr/local/lib/python3.10/site-packages (from python-graphs) (3.2.1)\n",
      "Requirement already satisfied: wheel<1.0,>=0.23.0 in /usr/local/lib/python3.10/site-packages (from astunparse->python-graphs) (0.41.2)\n",
      "\u001b[33mWARNING: Running pip as the 'root' user can result in broken permissions and conflicting behaviour with the system package manager. It is recommended to use a virtual environment instead: https://pip.pypa.io/warnings/venv\u001b[0m\u001b[33m\n",
      "\u001b[0m\n",
      "\u001b[1m[\u001b[0m\u001b[34;49mnotice\u001b[0m\u001b[1;39;49m]\u001b[0m\u001b[39;49m A new release of pip is available: \u001b[0m\u001b[31;49m23.0.1\u001b[0m\u001b[39;49m -> \u001b[0m\u001b[32;49m24.0\u001b[0m\n",
      "\u001b[1m[\u001b[0m\u001b[34;49mnotice\u001b[0m\u001b[1;39;49m]\u001b[0m\u001b[39;49m To update, run: \u001b[0m\u001b[32;49mpip install --upgrade pip\u001b[0m\n"
     ]
    }
   ],
   "source": [
    "!apt install -y graphviz libgraphviz-dev\n",
    "!pip install pygraphviz python-graphs"
   ]
  },
  {
   "cell_type": "code",
   "execution_count": 12,
   "id": "3d90829f-141b-4ec5-9bf4-1fcb8914109a",
   "metadata": {},
   "outputs": [],
   "source": [
    "def bubbleSort(arr):\n",
    "    n = len(arr)\n",
    "    swapped = False\n",
    "    for i in range(n-1):\n",
    "        for j in range(0, n-i-1):\n",
    "            if arr[j] > arr[j + 1]:\n",
    "                swapped = True\n",
    "                arr[j], arr[j + 1] = arr[j + 1], arr[j]        \n",
    "        if not swapped:\n",
    "            return\n",
    "\n",
    "fn = bubbleSort"
   ]
  },
  {
   "cell_type": "code",
   "execution_count": 13,
   "id": "e642c040-aa53-485b-9420-bdafcd2d26f7",
   "metadata": {},
   "outputs": [],
   "source": [
    "from python_graphs import control_flow\n",
    "\n",
    "graph = control_flow.get_control_flow_graph(fn)"
   ]
  },
  {
   "cell_type": "code",
   "execution_count": 14,
   "id": "8cd16812-1d84-4129-9f32-6d8e497b11d8",
   "metadata": {},
   "outputs": [
    {
     "data": {
      "text/plain": [
       "['__class__',\n",
       " '__delattr__',\n",
       " '__dict__',\n",
       " '__dir__',\n",
       " '__doc__',\n",
       " '__eq__',\n",
       " '__format__',\n",
       " '__ge__',\n",
       " '__getattribute__',\n",
       " '__gt__',\n",
       " '__hash__',\n",
       " '__init__',\n",
       " '__init_subclass__',\n",
       " '__le__',\n",
       " '__lt__',\n",
       " '__module__',\n",
       " '__ne__',\n",
       " '__new__',\n",
       " '__reduce__',\n",
       " '__reduce_ex__',\n",
       " '__repr__',\n",
       " '__setattr__',\n",
       " '__sizeof__',\n",
       " '__str__',\n",
       " '__subclasshook__',\n",
       " '__weakref__',\n",
       " 'add_node',\n",
       " 'blocks',\n",
       " 'compact',\n",
       " 'get_block_by_ast_node',\n",
       " 'get_block_by_ast_node_and_label',\n",
       " 'get_block_by_ast_node_type_and_label',\n",
       " 'get_block_by_function_name',\n",
       " 'get_block_by_source',\n",
       " 'get_block_by_source_and_ast_node_type',\n",
       " 'get_blocks_by_ast_node',\n",
       " 'get_blocks_by_ast_node_type_and_label',\n",
       " 'get_blocks_by_function_name',\n",
       " 'get_blocks_by_source',\n",
       " 'get_blocks_by_source_and_ast_node_type',\n",
       " 'get_control_flow_node_by_ast_node',\n",
       " 'get_control_flow_node_by_source',\n",
       " 'get_control_flow_node_by_source_and_identifier',\n",
       " 'get_control_flow_nodes',\n",
       " 'get_control_flow_nodes_by_ast_node',\n",
       " 'get_control_flow_nodes_by_source',\n",
       " 'get_control_flow_nodes_by_source_and_identifier',\n",
       " 'get_enter_blocks',\n",
       " 'get_enter_control_flow_nodes',\n",
       " 'get_exit_blocks',\n",
       " 'get_instructions',\n",
       " 'get_start_control_flow_node',\n",
       " 'move_block_to_rear',\n",
       " 'new_block',\n",
       " 'nodes',\n",
       " 'prune',\n",
       " 'start_block']"
      ]
     },
     "execution_count": 14,
     "metadata": {},
     "output_type": "execute_result"
    }
   ],
   "source": [
    "dir(graph)"
   ]
  },
  {
   "cell_type": "code",
   "execution_count": 15,
   "id": "35e49d6b-0cfb-49d0-a555-db063d8c907f",
   "metadata": {},
   "outputs": [],
   "source": [
    "from python_graphs import control_flow_graphviz\n",
    "from python_graphs import program_utils\n",
    "\n",
    "source = program_utils.getsource(fn)\n",
    "control_flow_graphviz.render(graph, include_src=source, path=f'cfg_bubble_sort.png')"
   ]
  },
  {
   "cell_type": "markdown",
   "id": "a479a6da-7a8a-4fcb-9d27-3adcdd1cb399",
   "metadata": {},
   "source": [
    "![](./res/01_cfg_bubble_sort.png)"
   ]
  },
  {
   "cell_type": "markdown",
   "id": "37b8b40c-c9c3-4eeb-856e-9b8a9f1d6a27",
   "metadata": {},
   "source": [
    "#### Program graph\n",
    "\n",
    "- https://github.com/google-research/python-graphs/blob/main/examples/program_graph_example.py\n",
    "\n",
    "```\n",
    "from python_graphs import program_graph\n",
    "from python_graphs import program_graph_graphviz\n",
    "\n",
    "graph = program_graph.get_program_graph(fn)\n",
    "program_graph_graphviz.render(graph, path=f'pg.png')\n",
    "```"
   ]
  },
  {
   "cell_type": "markdown",
   "id": "dd610767-a30f-49df-aa25-7cf31d5076d3",
   "metadata": {},
   "source": [
    "# 5. Code metrics\n",
    "\n",
    "- *You can’t control what you can't measure.*\n",
    "- *Good metrics don't mean good quality.*\n",
    "\n",
    "#### [SLOC (LOC)](https://en.wikipedia.org/wiki/Source_lines_of_code)\n",
    "\n",
    "Source lines of code or lines of code.\n",
    "\n",
    "*Physical SLOC (LOC)* --- a count of lines in the text of the program's source code excluding comment lines\n",
    "\n",
    "*Logical SLOC (LLOC)* --- a number of executable \"statements\"\n",
    "\n",
    "```\n",
    "for (i = 0; i < 100; i++) printf(\"hello\"); /* How many lines of code is this? */\n",
    "```\n",
    "\n",
    "- 1 physical line of code (LOC)\n",
    "- 2 logical lines of code (LLOC) (for statement and printf statement)\n",
    "- 1 comment line\n",
    "\n",
    "```/* Now how many lines of code is this? */\n",
    "for (i = 0; i < 100; i++)\n",
    "{\n",
    "    printf(\"hello\");\n",
    "}\n",
    "```\n",
    "\n",
    "- 4 physical lines of code (LOC): is placing braces work to be estimated?\n",
    "- 2 logical lines of code (LLOC): what about all the work writing non-statement lines?\n",
    "- 1 comment line: tools must account for all code and comments regardless of comment placement"
   ]
  },
  {
   "cell_type": "markdown",
   "id": "2fa1f9b4-350f-4ebc-ba62-6387775c1856",
   "metadata": {},
   "source": [
    "#### Cyclomatic complexity\n",
    "\n",
    "- [сyclomatic complexity](https://en.wikipedia.org/wiki/Cyclomatic_complexity)\n",
    "- https://github.com/google-research/python-graphs/blob/main/examples/cyclomatic_complexity_example.py\n",
    "\n",
    "*Cyclomatic complexity* is a software metric used to indicate the complexity of a program. It is a quantitative measure of the number of linearly independent paths through a program's source code.\n",
    "\n",
    "Or\n",
    "\n",
    "$$E − N + 2P,$$\n",
    "\n",
    "where\n",
    "- E = the number of edges of the CFG.\n",
    "- N = the number of nodes of the CFG.\n",
    "- P = the number of connected components."
   ]
  },
  {
   "cell_type": "code",
   "execution_count": 16,
   "id": "15f0ee33-1e46-4fae-997a-d980b497fd0f",
   "metadata": {},
   "outputs": [
    {
     "name": "stdout",
     "output_type": "stream",
     "text": [
      "5\n"
     ]
    }
   ],
   "source": [
    "from python_graphs import control_flow\n",
    "from python_graphs import cyclomatic_complexity\n",
    "\n",
    "graph = control_flow.get_control_flow_graph(fn)\n",
    "value = cyclomatic_complexity.cyclomatic_complexity(graph)\n",
    "print(value)"
   ]
  },
  {
   "cell_type": "markdown",
   "id": "2e99c14d-a6ed-4884-aaff-57cd5b228e9a",
   "metadata": {},
   "source": [
    "# 6. Code analysis\n",
    "\n",
    "#### Static and dynamic code analysis\n",
    "\n",
    "*Static analysis* is the analysis of computer programs performed without executing them.\n",
    "\n",
    "*Dynamic analysis* is the analysis of computer software that involves executing the program in question.\n",
    "\n",
    "\n",
    "#### The Halting Problem\n",
    "\n",
    "> Given a program $P$ and an input $I$, will $P$ halt on $I$?\n",
    "\n",
    "Assume that there exists an algorithm $H(P,I)$, which solves the halting problem for every progream $P$ and input $I$.\n",
    "\n",
    "Let $X(P)$ be the following alorithm:\n",
    "1. makes to copies of $P$\n",
    "2. runs $H(P,P)$\n",
    "3. if $H(P,P)$ outputs True, $X$ goes into infinite loop and runs forever\n",
    "4. if $H(P,P)$ outputs False, $X$ terminates\n",
    "\n",
    "Les's compare $X(X)$ and $H(X, X)$\n",
    "- If $H(X, X)$ returns True,  then $X$ goes into infinite loop and doesn't halt on $X$. Contradiction.\n",
    "- If $H(X, X)$ returns False, then $X$ terminates and halts on $X$. Contradiction.\n",
    "\n",
    "Thus, $H$ doesn't exist.\n",
    "\n",
    "Rice's theorem:\n",
    "> Any nontrivial property about the language recognized by a Turing machine is undecidable."
   ]
  },
  {
   "cell_type": "markdown",
   "id": "6b0c1e3f-d505-4b5e-ba06-76c730c64e5f",
   "metadata": {},
   "source": [
    "# 7. Exercise\n",
    "\n",
    "Дан фрагмент кода $S$ на языке Python.\n",
    "Надо создать фрагмент кода $S'$, отличающийся от $S$ только следующим:\n",
    "- убраны все комментарии\n",
    "- табы заменены на пробелы, убраны незначащие пробелы\n",
    "- названия переменнных, функций, классов заменены на новые: \"name_<номер>\"."
   ]
  },
  {
   "cell_type": "markdown",
   "id": "fd39c089-e0bc-43fe-aa42-b7c837631076",
   "metadata": {},
   "source": [
    "# 8. References\n",
    "\n",
    "- [IEEE24765-2017 - Systems and software engineering Vocabulary](https://www.cse.msu.edu/~cse435/Handouts/Standards/IEEE24765.pdf)\n",
    "- [Compilers: Principles, Techniques, and Tools](https://en.wikipedia.org/wiki/Compilers:_Principles,_Techniques,_and_Tools)\n",
    "- [Abstract syntax tree](https://en.wikipedia.org/wiki/Abstract_syntax_tree)\n",
    "- [Tree-sitter basics](https://eightify.app/summary/climate-change/tree-sitter-guide-mastering-the-basics)\n",
    "- [Tree-sitter: traverse a large number of nodes](https://github.com/tree-sitter/py-tree-sitter?tab=readme-ov-file#walking-syntax-trees)\n",
    "- [Tree-sitter: edit the syntax tree](https://github.com/tree-sitter/py-tree-sitter?tab=readme-ov-file#editing)\n",
    "- [Data flow graph](http://bears.ece.ucsb.edu/research-info/DP/dfg.html)\n",
    "- [Data flow graphs](https://www.youtube.com/watch?v=PmAK_5MrUMg)\n",
    "- [CodeQL: Analyzing data flow in Python](https://codeql.github.com/docs/codeql-language-guides/analyzing-data-flow-in-python/)\n",
    "- [Program dependence graph](https://piazza.com/class_profile/get_resource/hy7enxf648g7me/i2qodoub2q73x)\n",
    "- [Call property graph](https://en.wikipedia.org/wiki/Code_property_graph)\n",
    "- [Halting problem](https://cs.uwaterloo.ca/~a23gao/cs245_f17/notes/undecidability_solutions.pdf)\n",
    "- [Rice's theorem](http://kilby.stanford.edu/~rvg/154/handouts/Rice.html)"
   ]
  },
  {
   "cell_type": "code",
   "execution_count": null,
   "id": "0bc197f8-73c5-486b-bae5-e55222824df3",
   "metadata": {},
   "outputs": [],
   "source": []
  }
 ],
 "metadata": {
  "kernelspec": {
   "display_name": "Python 3 (ipykernel)",
   "language": "python",
   "name": "python3"
  },
  "language_info": {
   "codemirror_mode": {
    "name": "ipython",
    "version": 3
   },
   "file_extension": ".py",
   "mimetype": "text/x-python",
   "name": "python",
   "nbconvert_exporter": "python",
   "pygments_lexer": "ipython3",
   "version": "3.10.13"
  }
 },
 "nbformat": 4,
 "nbformat_minor": 5
}
